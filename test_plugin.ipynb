{
 "cells": [
  {
   "cell_type": "code",
   "execution_count": 6,
   "metadata": {},
   "outputs": [],
   "source": [
    "import NCrystal as NC\n",
    "import numpy as np\n",
    "from plotly.subplots import make_subplots\n",
    "import plotly.graph_objects as go\n",
    "from scipy.stats import qmc\n",
    "import time"
   ]
  },
  {
   "cell_type": "code",
   "execution_count": 7,
   "metadata": {},
   "outputs": [
    {
     "data": {
      "text/plain": [
       "'3.0.0'"
      ]
     },
     "execution_count": 7,
     "metadata": {},
     "output_type": "execute_result"
    }
   ],
   "source": [
    "NC.__version__"
   ]
  },
  {
   "cell_type": "markdown",
   "metadata": {},
   "source": [
    "## Scattering & absorption "
   ]
  },
  {
   "cell_type": "code",
   "execution_count": 8,
   "metadata": {},
   "outputs": [],
   "source": [
    "O2_scat = NC.createScatter('ncplugin-MagScat_O2_sg223_SolidOxygen-gamma.ncmat;dcutoff=0.5')\n",
    "O2_abs  = NC.createAbsorption('ncplugin-MagScat_O2_sg223_SolidOxygen-gamma.ncmat;dcutoff=0.5')\n",
    "E  = np.logspace(-7, 1,1000)\n",
    "xs_scat = O2_scat.crossSectionNonOriented(E)\n",
    "xs_abs  = O2_abs.crossSectionNonOriented(E)"
   ]
  },
  {
   "cell_type": "markdown",
   "metadata": {},
   "source": [
    "## Magnetic scattering "
   ]
  },
  {
   "cell_type": "code",
   "execution_count": 9,
   "metadata": {},
   "outputs": [],
   "source": [
    "O2_down = NC.createScatter('ncplugin-MagScat_O2_sg223_SolidOxygen-gamma_down.ncmat;dcutoff=0.5;inelas=0;elas=0')\n",
    "O2_up   = NC.createScatter('ncplugin-MagScat_O2_sg223_SolidOxygen-gamma_up.ncmat;dcutoff=0.5;inelas=0;elas=0')\n",
    "E2 = np.logspace(-7,-1,1000)\n",
    "xs_down = O2_down.crossSectionIsotropic(E2)\n",
    "xs_up   = O2_up.crossSectionIsotropic(E2)"
   ]
  },
  {
   "cell_type": "markdown",
   "metadata": {},
   "source": [
    "## Cross section visualization "
   ]
  },
  {
   "cell_type": "code",
   "execution_count": 12,
   "metadata": {},
   "outputs": [
    {
     "data": {
      "image/svg+xml": [
       "<svg class=\"main-svg\" xmlns=\"http://www.w3.org/2000/svg\" xmlns:xlink=\"http://www.w3.org/1999/xlink\" width=\"700\" height=\"450\" style=\"\" viewBox=\"0 0 700 450\"><rect x=\"0\" y=\"0\" width=\"700\" height=\"450\" style=\"fill: rgb(255, 255, 255); fill-opacity: 1;\"/><defs id=\"defs-b6b005\"><g class=\"clips\"><clipPath id=\"clipb6b005xyplot\" class=\"plotclip\"><rect width=\"433\" height=\"370\"/></clipPath><clipPath class=\"axesclip\" id=\"clipb6b005x\"><rect x=\"80\" y=\"0\" width=\"433\" height=\"450\"/></clipPath><clipPath class=\"axesclip\" id=\"clipb6b005y\"><rect x=\"0\" y=\"20\" width=\"700\" height=\"370\"/></clipPath><clipPath class=\"axesclip\" id=\"clipb6b005xy\"><rect x=\"80\" y=\"20\" width=\"433\" height=\"370\"/></clipPath></g><g class=\"gradients\"/></defs><g class=\"bglayer\"><rect class=\"bg\" x=\"80\" y=\"20\" width=\"433\" height=\"370\" style=\"fill: rgb(229, 236, 246); fill-opacity: 1; stroke-width: 0;\"/></g><g class=\"layer-below\"><g class=\"imagelayer\"/><g class=\"shapelayer\"/></g><g class=\"cartesianlayer\"><g class=\"subplot xy\"><g class=\"layer-subplot\"><g class=\"shapelayer\"/><g class=\"imagelayer\"/></g><g class=\"gridlayer\"><g class=\"x\"><path class=\"xgrid crisp\" transform=\"translate(134.13,0)\" d=\"M0,20v370\" style=\"stroke: rgb(255, 255, 255); stroke-opacity: 1; stroke-width: 1px;\"/><path class=\"xgrid crisp\" transform=\"translate(242.38,0)\" d=\"M0,20v370\" style=\"stroke: rgb(255, 255, 255); stroke-opacity: 1; stroke-width: 1px;\"/><path class=\"xgrid crisp\" transform=\"translate(350.63,0)\" d=\"M0,20v370\" style=\"stroke: rgb(255, 255, 255); stroke-opacity: 1; stroke-width: 1px;\"/><path class=\"xgrid crisp\" transform=\"translate(458.88,0)\" d=\"M0,20v370\" style=\"stroke: rgb(255, 255, 255); stroke-opacity: 1; stroke-width: 1px;\"/></g><g class=\"y\"><path class=\"ygrid crisp\" transform=\"translate(0,387.34)\" d=\"M80,0h433\" style=\"stroke: rgb(255, 255, 255); stroke-opacity: 1; stroke-width: 1px;\"/><path class=\"ygrid crisp\" transform=\"translate(0,370.39)\" d=\"M80,0h433\" style=\"stroke: rgb(255, 255, 255); stroke-opacity: 1; stroke-width: 1px;\"/><path class=\"ygrid crisp\" transform=\"translate(0,353.44)\" d=\"M80,0h433\" style=\"stroke: rgb(255, 255, 255); stroke-opacity: 1; stroke-width: 1px;\"/><path class=\"ygrid crisp\" transform=\"translate(0,331.04)\" d=\"M80,0h433\" style=\"stroke: rgb(255, 255, 255); stroke-opacity: 1; stroke-width: 1px;\"/><path class=\"ygrid crisp\" transform=\"translate(0,314.1)\" d=\"M80,0h433\" style=\"stroke: rgb(255, 255, 255); stroke-opacity: 1; stroke-width: 1px;\"/><path class=\"ygrid crisp\" transform=\"translate(0,297.15)\" d=\"M80,0h433\" style=\"stroke: rgb(255, 255, 255); stroke-opacity: 1; stroke-width: 1px;\"/><path class=\"ygrid crisp\" transform=\"translate(0,274.75)\" d=\"M80,0h433\" style=\"stroke: rgb(255, 255, 255); stroke-opacity: 1; stroke-width: 1px;\"/><path class=\"ygrid crisp\" transform=\"translate(0,257.8)\" d=\"M80,0h433\" style=\"stroke: rgb(255, 255, 255); stroke-opacity: 1; stroke-width: 1px;\"/><path class=\"ygrid crisp\" transform=\"translate(0,240.86)\" d=\"M80,0h433\" style=\"stroke: rgb(255, 255, 255); stroke-opacity: 1; stroke-width: 1px;\"/><path class=\"ygrid crisp\" transform=\"translate(0,218.45)\" d=\"M80,0h433\" style=\"stroke: rgb(255, 255, 255); stroke-opacity: 1; stroke-width: 1px;\"/><path class=\"ygrid crisp\" transform=\"translate(0,201.51)\" d=\"M80,0h433\" style=\"stroke: rgb(255, 255, 255); stroke-opacity: 1; stroke-width: 1px;\"/><path class=\"ygrid crisp\" transform=\"translate(0,184.56)\" d=\"M80,0h433\" style=\"stroke: rgb(255, 255, 255); stroke-opacity: 1; stroke-width: 1px;\"/><path class=\"ygrid crisp\" transform=\"translate(0,162.16)\" d=\"M80,0h433\" style=\"stroke: rgb(255, 255, 255); stroke-opacity: 1; stroke-width: 1px;\"/><path class=\"ygrid crisp\" transform=\"translate(0,145.20999999999998)\" d=\"M80,0h433\" style=\"stroke: rgb(255, 255, 255); stroke-opacity: 1; stroke-width: 1px;\"/><path class=\"ygrid crisp\" transform=\"translate(0,128.26999999999998)\" d=\"M80,0h433\" style=\"stroke: rgb(255, 255, 255); stroke-opacity: 1; stroke-width: 1px;\"/><path class=\"ygrid crisp\" transform=\"translate(0,105.86)\" d=\"M80,0h433\" style=\"stroke: rgb(255, 255, 255); stroke-opacity: 1; stroke-width: 1px;\"/><path class=\"ygrid crisp\" transform=\"translate(0,88.92)\" d=\"M80,0h433\" style=\"stroke: rgb(255, 255, 255); stroke-opacity: 1; stroke-width: 1px;\"/><path class=\"ygrid crisp\" transform=\"translate(0,71.97)\" d=\"M80,0h433\" style=\"stroke: rgb(255, 255, 255); stroke-opacity: 1; stroke-width: 1px;\"/><path class=\"ygrid crisp\" transform=\"translate(0,49.57)\" d=\"M80,0h433\" style=\"stroke: rgb(255, 255, 255); stroke-opacity: 1; stroke-width: 1px;\"/><path class=\"ygrid crisp\" transform=\"translate(0,32.62)\" d=\"M80,0h433\" style=\"stroke: rgb(255, 255, 255); stroke-opacity: 1; stroke-width: 1px;\"/></g></g><g class=\"zerolinelayer\"/><path class=\"xlines-below\"/><path class=\"ylines-below\"/><g class=\"overlines-below\"/><g class=\"xaxislayer-below\"/><g class=\"yaxislayer-below\"/><g class=\"overaxes-below\"/><g class=\"plot\" transform=\"translate(80,20)\" clip-path=\"url('#clipb6b005xyplot')\"><g class=\"scatterlayer mlayer\"><g class=\"trace scatter trace2cc709\" style=\"stroke-miterlimit: 2; opacity: 1;\"><g class=\"fills\"/><g class=\"errorbars\"/><g class=\"lines\"><path class=\"js-line\" d=\"M0,241.01L45.51,242.38L45.94,242.38L105.32,242.98L105.76,242.98L196.35,242.34L196.78,242.31L197.21,242.28L197.65,18.5L213.68,35.18L214.12,19.73L229.72,35.51L230.15,30.67L234.92,35.62L235.35,26.63L248.79,39.72L249.22,34.71L251.39,36.92L251.82,33.62L255.73,37.38L256.16,36.69L259.19,39.15L259.63,36.15L263.96,39.48L264.39,36.22L266.56,37.91L266.99,36.47L268.73,37.58L269.16,36.42L271.76,38.07L272.2,37.35L273.93,38.26L274.36,35.87L277.4,37.31L277.83,36.91L279.56,37.81L280,37.07L280.86,37.37L281.3,36.59L284.33,37.49L284.77,36.8L286.07,36.83L286.5,36.76L288.67,37.21L289.1,37.19L289.97,36.81L290.4,36.87L292.13,36.93L292.57,36.88L293.87,36.94L294.3,36.71L334.18,37.1L334.61,37.1L383.59,36.71L384.02,36.71L433,36.64\" style=\"vector-effect: non-scaling-stroke; fill: none; stroke: rgb(99, 110, 250); stroke-opacity: 1; stroke-width: 2px; opacity: 1;\"/></g><g class=\"points\"/><g class=\"text\"/></g><g class=\"trace scatter trace318d69\" style=\"stroke-miterlimit: 2; opacity: 1;\"><g class=\"fills\"/><g class=\"errorbars\"/><g class=\"lines\"><path class=\"js-line\" d=\"M0,126.32L56.78,155.85L57.21,156.07L370.15,318.82L370.59,319.04L427.8,348.8L428.23,349.02L433,351.5\" style=\"vector-effect: non-scaling-stroke; fill: none; stroke: rgb(239, 85, 59); stroke-opacity: 1; stroke-width: 2px; opacity: 1;\"/></g><g class=\"points\"/><g class=\"text\"/></g><g class=\"trace scatter trace25decb\" style=\"stroke-miterlimit: 2; opacity: 1;\"><g class=\"fills\"/><g class=\"errorbars\"/><g class=\"lines\"><path class=\"js-line\" d=\"M0,7770L195.04934856730148,7770L195.05,101.06L196.35,67.24L196.67,64.79L198.95,55.33L199.27,54.5L202.2,49.34L202.52,48.94L206.42,45.49L206.75,45.29L211.62,43.25L211.95,43.16L217.8,42.42L218.13,42.42L225.28,43.13L225.6,43.19L233.73,45.67L234.05,45.8L241.53,49.52L241.86,49.71L250.63,55.74L250.96,56L261.04,64.8L261.36,65.11L276.31,80.16L276.64,80.5L324.75,130.51\" style=\"vector-effect: non-scaling-stroke; fill: none; stroke: rgb(0, 204, 150); stroke-opacity: 1; stroke-width: 2px; opacity: 1;\"/></g><g class=\"points\"/><g class=\"text\"/></g><g class=\"trace scatter trace0ce7db\" style=\"stroke-miterlimit: 2; opacity: 1;\"><g class=\"fills\"/><g class=\"errorbars\"/><g class=\"lines\"><path class=\"js-line\" d=\"M0,44.18L149.21,120.55L149.53,120.7L172.29,130.91L172.61,131.05L227.23,153.17L227.55,153.33L239.26,160.17L239.58,160.38L249.98,168.18L250.31,168.45L263.31,180.4L263.64,180.72L296.47,214.59L296.79,214.93L323.45,242.65L323.77,242.99L324.75,244\" style=\"vector-effect: non-scaling-stroke; fill: none; stroke: rgb(171, 99, 250); stroke-opacity: 1; stroke-width: 2px; opacity: 1;\"/></g><g class=\"points\"/><g class=\"text\"/></g></g></g><g class=\"overplot\"/><path class=\"xlines-above crisp\" d=\"M0,0\" style=\"fill: none;\"/><path class=\"ylines-above crisp\" d=\"M0,0\" style=\"fill: none;\"/><g class=\"overlines-above\"/><g class=\"xaxislayer-above\"><g class=\"xtick\"><text text-anchor=\"middle\" x=\"0\" y=\"406\" transform=\"translate(134.13,0)\" style=\"font-family: 'Open Sans', verdana, arial, sans-serif; font-size: 15px; fill: rgb(42, 63, 95); fill-opacity: 1; white-space: pre;\">10​<tspan style=\"font-size:70%\" dy=\"-0.6em\">−6</tspan><tspan dy=\"0.42em\">​</tspan></text></g><g class=\"xtick\"><text text-anchor=\"middle\" x=\"0\" y=\"406\" transform=\"translate(242.38,0)\" style=\"font-family: 'Open Sans', verdana, arial, sans-serif; font-size: 15px; fill: rgb(42, 63, 95); fill-opacity: 1; white-space: pre;\">10​<tspan style=\"font-size:70%\" dy=\"-0.6em\">−4</tspan><tspan dy=\"0.42em\">​</tspan></text></g><g class=\"xtick\"><text text-anchor=\"middle\" x=\"0\" y=\"406\" transform=\"translate(350.63,0)\" style=\"font-family: 'Open Sans', verdana, arial, sans-serif; font-size: 15px; fill: rgb(42, 63, 95); fill-opacity: 1; white-space: pre;\">10​<tspan style=\"font-size:70%\" dy=\"-0.6em\">−2</tspan><tspan dy=\"0.42em\">​</tspan></text></g><g class=\"xtick\"><text text-anchor=\"middle\" x=\"0\" y=\"406\" transform=\"translate(458.88,0)\" style=\"font-family: 'Open Sans', verdana, arial, sans-serif; font-size: 15px; fill: rgb(42, 63, 95); fill-opacity: 1; white-space: pre;\">1</text></g></g><g class=\"yaxislayer-above\"><g class=\"ytick\"><text text-anchor=\"end\" x=\"79\" y=\"3.15\" transform=\"translate(0,387.34)\" style=\"font-family: 'Open Sans', verdana, arial, sans-serif; font-size: 9px; fill: rgb(42, 63, 95); fill-opacity: 1; white-space: pre;\">5</text></g><g class=\"ytick\"><text text-anchor=\"end\" x=\"79\" y=\"5.25\" transform=\"translate(0,370.39)\" style=\"font-family: 'Open Sans', verdana, arial, sans-serif; font-size: 15px; fill: rgb(42, 63, 95); fill-opacity: 1; white-space: pre;\">10​<tspan style=\"font-size:70%\" dy=\"-0.6em\">−5</tspan><tspan dy=\"0.42em\">​</tspan></text></g><g class=\"ytick\"><text text-anchor=\"end\" x=\"79\" y=\"3.15\" transform=\"translate(0,353.44)\" style=\"font-family: 'Open Sans', verdana, arial, sans-serif; font-size: 9px; fill: rgb(42, 63, 95); fill-opacity: 1; white-space: pre;\">2</text></g><g class=\"ytick\"><text text-anchor=\"end\" x=\"79\" y=\"3.15\" transform=\"translate(0,331.04)\" style=\"font-family: 'Open Sans', verdana, arial, sans-serif; font-size: 9px; fill: rgb(42, 63, 95); fill-opacity: 1; white-space: pre;\">5</text></g><g class=\"ytick\"><text text-anchor=\"end\" x=\"79\" y=\"5.25\" transform=\"translate(0,314.1)\" style=\"font-family: 'Open Sans', verdana, arial, sans-serif; font-size: 15px; fill: rgb(42, 63, 95); fill-opacity: 1; white-space: pre;\">10​<tspan style=\"font-size:70%\" dy=\"-0.6em\">−4</tspan><tspan dy=\"0.42em\">​</tspan></text></g><g class=\"ytick\"><text text-anchor=\"end\" x=\"79\" y=\"3.15\" transform=\"translate(0,297.15)\" style=\"font-family: 'Open Sans', verdana, arial, sans-serif; font-size: 9px; fill: rgb(42, 63, 95); fill-opacity: 1; white-space: pre;\">2</text></g><g class=\"ytick\"><text text-anchor=\"end\" x=\"79\" y=\"3.15\" transform=\"translate(0,274.75)\" style=\"font-family: 'Open Sans', verdana, arial, sans-serif; font-size: 9px; fill: rgb(42, 63, 95); fill-opacity: 1; white-space: pre;\">5</text></g><g class=\"ytick\"><text text-anchor=\"end\" x=\"79\" y=\"5.25\" transform=\"translate(0,257.8)\" style=\"font-family: 'Open Sans', verdana, arial, sans-serif; font-size: 15px; fill: rgb(42, 63, 95); fill-opacity: 1; white-space: pre;\">10​<tspan style=\"font-size:70%\" dy=\"-0.6em\">−3</tspan><tspan dy=\"0.42em\">​</tspan></text></g><g class=\"ytick\"><text text-anchor=\"end\" x=\"79\" y=\"3.15\" transform=\"translate(0,240.86)\" style=\"font-family: 'Open Sans', verdana, arial, sans-serif; font-size: 9px; fill: rgb(42, 63, 95); fill-opacity: 1; white-space: pre;\">2</text></g><g class=\"ytick\"><text text-anchor=\"end\" x=\"79\" y=\"3.15\" transform=\"translate(0,218.45)\" style=\"font-family: 'Open Sans', verdana, arial, sans-serif; font-size: 9px; fill: rgb(42, 63, 95); fill-opacity: 1; white-space: pre;\">5</text></g><g class=\"ytick\"><text text-anchor=\"end\" x=\"79\" y=\"5.25\" transform=\"translate(0,201.51)\" style=\"font-family: 'Open Sans', verdana, arial, sans-serif; font-size: 15px; fill: rgb(42, 63, 95); fill-opacity: 1; white-space: pre;\">10​<tspan style=\"font-size:70%\" dy=\"-0.6em\">−2</tspan><tspan dy=\"0.42em\">​</tspan></text></g><g class=\"ytick\"><text text-anchor=\"end\" x=\"79\" y=\"3.15\" transform=\"translate(0,184.56)\" style=\"font-family: 'Open Sans', verdana, arial, sans-serif; font-size: 9px; fill: rgb(42, 63, 95); fill-opacity: 1; white-space: pre;\">2</text></g><g class=\"ytick\"><text text-anchor=\"end\" x=\"79\" y=\"3.15\" transform=\"translate(0,162.16)\" style=\"font-family: 'Open Sans', verdana, arial, sans-serif; font-size: 9px; fill: rgb(42, 63, 95); fill-opacity: 1; white-space: pre;\">5</text></g><g class=\"ytick\"><text text-anchor=\"end\" x=\"79\" y=\"5.25\" transform=\"translate(0,145.20999999999998)\" style=\"font-family: 'Open Sans', verdana, arial, sans-serif; font-size: 15px; fill: rgb(42, 63, 95); fill-opacity: 1; white-space: pre;\">10​<tspan style=\"font-size:70%\" dy=\"-0.6em\">−1</tspan><tspan dy=\"0.42em\">​</tspan></text></g><g class=\"ytick\"><text text-anchor=\"end\" x=\"79\" y=\"3.15\" transform=\"translate(0,128.26999999999998)\" style=\"font-family: 'Open Sans', verdana, arial, sans-serif; font-size: 9px; fill: rgb(42, 63, 95); fill-opacity: 1; white-space: pre;\">2</text></g><g class=\"ytick\"><text text-anchor=\"end\" x=\"79\" y=\"3.15\" transform=\"translate(0,105.86)\" style=\"font-family: 'Open Sans', verdana, arial, sans-serif; font-size: 9px; fill: rgb(42, 63, 95); fill-opacity: 1; white-space: pre;\">5</text></g><g class=\"ytick\"><text text-anchor=\"end\" x=\"79\" y=\"5.25\" transform=\"translate(0,88.92)\" style=\"font-family: 'Open Sans', verdana, arial, sans-serif; font-size: 15px; fill: rgb(42, 63, 95); fill-opacity: 1; white-space: pre;\">1</text></g><g class=\"ytick\"><text text-anchor=\"end\" x=\"79\" y=\"3.15\" transform=\"translate(0,71.97)\" style=\"font-family: 'Open Sans', verdana, arial, sans-serif; font-size: 9px; fill: rgb(42, 63, 95); fill-opacity: 1; white-space: pre;\">2</text></g><g class=\"ytick\"><text text-anchor=\"end\" x=\"79\" y=\"3.15\" transform=\"translate(0,49.57)\" style=\"font-family: 'Open Sans', verdana, arial, sans-serif; font-size: 9px; fill: rgb(42, 63, 95); fill-opacity: 1; white-space: pre;\">5</text></g><g class=\"ytick\"><text text-anchor=\"end\" x=\"79\" y=\"5.25\" transform=\"translate(0,32.62)\" style=\"font-family: 'Open Sans', verdana, arial, sans-serif; font-size: 15px; fill: rgb(42, 63, 95); fill-opacity: 1; white-space: pre;\">10</text></g></g><g class=\"overaxes-above\"/></g></g><g class=\"polarlayer\"/><g class=\"ternarylayer\"/><g class=\"geolayer\"/><g class=\"funnelarealayer\"/><g class=\"pielayer\"/><g class=\"treemaplayer\"/><g class=\"sunburstlayer\"/><g class=\"glimages\"/><defs id=\"topdefs-b6b005\"><g class=\"clips\"/><clipPath id=\"legendb6b005\"><rect width=\"166\" height=\"86\" x=\"0\" y=\"0\"/></clipPath></defs><g class=\"layer-above\"><g class=\"imagelayer\"/><g class=\"shapelayer\"/></g><g class=\"infolayer\"><g class=\"legend\" pointer-events=\"all\" transform=\"translate(521.6600000000001,20)\"><rect class=\"bg\" shape-rendering=\"crispEdges\" width=\"166\" height=\"86\" x=\"0\" y=\"0\" style=\"stroke: rgb(68, 68, 68); stroke-opacity: 1; fill: rgb(255, 255, 255); fill-opacity: 1; stroke-width: 0px;\"/><g class=\"scrollbox\" transform=\"\" clip-path=\"url('#legendb6b005')\"><g class=\"groups\"><g class=\"traces\" transform=\"translate(0,14.5)\" style=\"opacity: 1;\"><text class=\"legendtext\" text-anchor=\"start\" x=\"40\" y=\"4.680000000000001\" style=\"font-family: 'Open Sans', verdana, arial, sans-serif; font-size: 12px; fill: rgb(42, 63, 95); fill-opacity: 1; white-space: pre;\">Scattering</text><g class=\"layers\" style=\"opacity: 1;\"><g class=\"legendfill\"/><g class=\"legendlines\"><path class=\"js-line\" d=\"M5,0h30\" style=\"fill: none; stroke: rgb(99, 110, 250); stroke-opacity: 1; stroke-width: 2px;\"/></g><g class=\"legendsymbols\"><g class=\"legendpoints\"/></g></g><rect class=\"legendtoggle\" x=\"0\" y=\"-9.5\" width=\"160.09375\" height=\"19\" style=\"fill: rgb(0, 0, 0); fill-opacity: 0;\"/></g><g class=\"traces\" transform=\"translate(0,33.5)\" style=\"opacity: 1;\"><text class=\"legendtext\" text-anchor=\"start\" x=\"40\" y=\"4.680000000000001\" style=\"font-family: 'Open Sans', verdana, arial, sans-serif; font-size: 12px; fill: rgb(42, 63, 95); fill-opacity: 1; white-space: pre;\">Absorption</text><g class=\"layers\" style=\"opacity: 1;\"><g class=\"legendfill\"/><g class=\"legendlines\"><path class=\"js-line\" d=\"M5,0h30\" style=\"fill: none; stroke: rgb(239, 85, 59); stroke-opacity: 1; stroke-width: 2px;\"/></g><g class=\"legendsymbols\"><g class=\"legendpoints\"/></g></g><rect class=\"legendtoggle\" x=\"0\" y=\"-9.5\" width=\"160.09375\" height=\"19\" style=\"fill: rgb(0, 0, 0); fill-opacity: 0;\"/></g><g class=\"traces\" transform=\"translate(0,52.5)\" style=\"opacity: 1;\"><text class=\"legendtext\" text-anchor=\"start\" x=\"40\" y=\"4.680000000000001\" style=\"font-family: 'Open Sans', verdana, arial, sans-serif; font-size: 12px; fill: rgb(42, 63, 95); fill-opacity: 1; white-space: pre;\">Magnetic down-scat</text><g class=\"layers\" style=\"opacity: 1;\"><g class=\"legendfill\"/><g class=\"legendlines\"><path class=\"js-line\" d=\"M5,0h30\" style=\"fill: none; stroke: rgb(0, 204, 150); stroke-opacity: 1; stroke-width: 2px;\"/></g><g class=\"legendsymbols\"><g class=\"legendpoints\"/></g></g><rect class=\"legendtoggle\" x=\"0\" y=\"-9.5\" width=\"160.09375\" height=\"19\" style=\"fill: rgb(0, 0, 0); fill-opacity: 0;\"/></g><g class=\"traces\" transform=\"translate(0,71.5)\" style=\"opacity: 1;\"><text class=\"legendtext\" text-anchor=\"start\" x=\"40\" y=\"4.680000000000001\" style=\"font-family: 'Open Sans', verdana, arial, sans-serif; font-size: 12px; fill: rgb(42, 63, 95); fill-opacity: 1; white-space: pre;\">Magnetic up-scat</text><g class=\"layers\" style=\"opacity: 1;\"><g class=\"legendfill\"/><g class=\"legendlines\"><path class=\"js-line\" d=\"M5,0h30\" style=\"fill: none; stroke: rgb(171, 99, 250); stroke-opacity: 1; stroke-width: 2px;\"/></g><g class=\"legendsymbols\"><g class=\"legendpoints\"/></g></g><rect class=\"legendtoggle\" x=\"0\" y=\"-9.5\" width=\"160.09375\" height=\"19\" style=\"fill: rgb(0, 0, 0); fill-opacity: 0;\"/></g></g></g><rect class=\"scrollbar\" rx=\"20\" ry=\"3\" width=\"0\" height=\"0\" x=\"0\" y=\"0\" style=\"fill: rgb(128, 139, 164); fill-opacity: 1;\"/></g><g class=\"g-gtitle\"/><g class=\"g-xtitle\"><text class=\"xtitle\" x=\"296.5\" y=\"433.8\" text-anchor=\"middle\" style=\"font-family: 'Open Sans', verdana, arial, sans-serif; font-size: 14px; fill: rgb(42, 63, 95); opacity: 1; font-weight: normal; white-space: pre;\">Incident neutron energy (eV)</text></g><g class=\"g-ytitle\"><text class=\"ytitle\" transform=\"rotate(-90,19.856250000000003,205)\" x=\"19.856250000000003\" y=\"205\" text-anchor=\"middle\" style=\"font-family: 'Open Sans', verdana, arial, sans-serif; font-size: 14px; fill: rgb(42, 63, 95); opacity: 1; font-weight: normal; white-space: pre;\">Cross section (barn)</text></g><g class=\"annotation\" data-index=\"0\" style=\"opacity: 1;\"><g class=\"annotation-text-g\" transform=\"rotate(0,436.7,139)\"><g class=\"cursor-pointer\" transform=\"translate(404,131)\"><rect class=\"bg\" x=\"0.5\" y=\"0.5\" width=\"65\" height=\"15\" style=\"stroke-width: 1px; stroke: rgb(0, 0, 0); stroke-opacity: 0; fill: rgb(0, 0, 0); fill-opacity: 0;\"/><g class=\"annotation-text-math-group\" pointer-events=\"none\" data-unformatted=\"$\\Large T=1\\textrm{ K}$\" data-math=\"Y\"><svg xmlns:xlink=\"http://www.w3.org/1999/xlink\" width=\"11.676ex\" height=\"16.046875\" viewBox=\"0 -1125.2 5027.3 1287.6\" role=\"img\" focusable=\"false\" aria-hidden=\"true\" style=\"vertical-align: -0.377ex; overflow: visible; pointer-events: none;\" class=\"annotation-text-math\" preserveAspectRatio=\"xMinYMin meet\" x=\"1\" y=\"2\"><defs id=\"MathJax_SVG_glyphs\"><path stroke-width=\"1\" id=\"MJMATHI-54\" d=\"M40 437Q21 437 21 445Q21 450 37 501T71 602L88 651Q93 669 101 677H569H659Q691 677 697 676T704 667Q704 661 687 553T668 444Q668 437 649 437Q640 437 637 437T631 442L629 445Q629 451 635 490T641 551Q641 586 628 604T573 629Q568 630 515 631Q469 631 457 630T439 622Q438 621 368 343T298 60Q298 48 386 46Q418 46 427 45T436 36Q436 31 433 22Q429 4 424 1L422 0Q419 0 415 0Q410 0 363 1T228 2Q99 2 64 0H49Q43 6 43 9T45 27Q49 40 55 46H83H94Q174 46 189 55Q190 56 191 56Q196 59 201 76T241 233Q258 301 269 344Q339 619 339 625Q339 630 310 630H279Q212 630 191 624Q146 614 121 583T67 467Q60 445 57 441T43 437H40Z\"/><path stroke-width=\"1\" id=\"MJMAIN-3D\" d=\"M56 347Q56 360 70 367H707Q722 359 722 347Q722 336 708 328L390 327H72Q56 332 56 347ZM56 153Q56 168 72 173H708Q722 163 722 153Q722 140 707 133H70Q56 140 56 153Z\"/><path stroke-width=\"1\" id=\"MJMAIN-31\" d=\"M213 578L200 573Q186 568 160 563T102 556H83V602H102Q149 604 189 617T245 641T273 663Q275 666 285 666Q294 666 302 660V361L303 61Q310 54 315 52T339 48T401 46H427V0H416Q395 3 257 3Q121 3 100 0H88V46H114Q136 46 152 46T177 47T193 50T201 52T207 57T213 61V578Z\"/><path stroke-width=\"1\" id=\"MJMAIN-4B\" d=\"M128 622Q121 629 117 631T101 634T58 637H25V683H36Q57 680 180 680Q315 680 324 683H335V637H313Q235 637 233 620Q232 618 232 462L233 307L379 449Q425 494 479 546Q518 584 524 591T531 607V608Q531 630 503 636Q501 636 498 636T493 637H489V683H499Q517 680 630 680Q704 680 716 683H722V637H708Q633 633 589 597Q584 592 495 506T406 419T515 254T631 80Q644 60 662 54T715 46H736V0H728Q719 3 615 3Q493 3 472 0H461V46H469Q515 46 515 72Q515 78 512 84L336 351Q332 348 278 296L232 251V156Q232 62 235 58Q243 47 302 46H335V0H324Q303 3 180 3Q45 3 36 0H25V46H58Q100 47 109 49T128 61V622Z\"/><path stroke-width=\"1\" id=\"MJMAIN-53\" d=\"M55 507Q55 590 112 647T243 704H257Q342 704 405 641L426 672Q431 679 436 687T446 700L449 704Q450 704 453 704T459 705H463Q466 705 472 699V462L466 456H448Q437 456 435 459T430 479Q413 605 329 646Q292 662 254 662Q201 662 168 626T135 542Q135 508 152 480T200 435Q210 431 286 412T370 389Q427 367 463 314T500 191Q500 110 448 45T301 -21Q245 -21 201 -4T140 27L122 41Q118 36 107 21T87 -7T78 -21Q76 -22 68 -22H64Q61 -22 55 -16V101Q55 220 56 222Q58 227 76 227H89Q95 221 95 214Q95 182 105 151T139 90T205 42T305 24Q352 24 386 62T420 155Q420 198 398 233T340 281Q284 295 266 300Q261 301 239 306T206 314T174 325T141 343T112 367T85 402Q55 451 55 507Z\"/><path stroke-width=\"1\" id=\"MJMAIN-6F\" d=\"M28 214Q28 309 93 378T250 448Q340 448 405 380T471 215Q471 120 407 55T250 -10Q153 -10 91 57T28 214ZM250 30Q372 30 372 193V225V250Q372 272 371 288T364 326T348 362T317 390T268 410Q263 411 252 411Q222 411 195 399Q152 377 139 338T126 246V226Q126 130 145 91Q177 30 250 30Z\"/><path stroke-width=\"1\" id=\"MJMAIN-6C\" d=\"M42 46H56Q95 46 103 60V68Q103 77 103 91T103 124T104 167T104 217T104 272T104 329Q104 366 104 407T104 482T104 542T103 586T103 603Q100 622 89 628T44 637H26V660Q26 683 28 683L38 684Q48 685 67 686T104 688Q121 689 141 690T171 693T182 694H185V379Q185 62 186 60Q190 52 198 49Q219 46 247 46H263V0H255L232 1Q209 2 183 2T145 3T107 3T57 1L34 0H26V46H42Z\"/><path stroke-width=\"1\" id=\"MJMAIN-69\" d=\"M69 609Q69 637 87 653T131 669Q154 667 171 652T188 609Q188 579 171 564T129 549Q104 549 87 564T69 609ZM247 0Q232 3 143 3Q132 3 106 3T56 1L34 0H26V46H42Q70 46 91 49Q100 53 102 60T104 102V205V293Q104 345 102 359T88 378Q74 385 41 385H30V408Q30 431 32 431L42 432Q52 433 70 434T106 436Q123 437 142 438T171 441T182 442H185V62Q190 52 197 50T232 46H255V0H247Z\"/><path stroke-width=\"1\" id=\"MJMAIN-64\" d=\"M376 495Q376 511 376 535T377 568Q377 613 367 624T316 637H298V660Q298 683 300 683L310 684Q320 685 339 686T376 688Q393 689 413 690T443 693T454 694H457V390Q457 84 458 81Q461 61 472 55T517 46H535V0Q533 0 459 -5T380 -11H373V44L365 37Q307 -11 235 -11Q158 -11 96 50T34 215Q34 315 97 378T244 442Q319 442 376 393V495ZM373 342Q328 405 260 405Q211 405 173 369Q146 341 139 305T131 211Q131 155 138 120T173 59Q203 26 251 26Q322 26 373 103V342Z\"/><path stroke-width=\"1\" id=\"MJMAIN-78\" d=\"M201 0Q189 3 102 3Q26 3 17 0H11V46H25Q48 47 67 52T96 61T121 78T139 96T160 122T180 150L226 210L168 288Q159 301 149 315T133 336T122 351T113 363T107 370T100 376T94 379T88 381T80 383Q74 383 44 385H16V431H23Q59 429 126 429Q219 429 229 431H237V385Q201 381 201 369Q201 367 211 353T239 315T268 274L272 270L297 304Q329 345 329 358Q329 364 327 369T322 376T317 380T310 384L307 385H302V431H309Q324 428 408 428Q487 428 493 431H499V385H492Q443 385 411 368Q394 360 377 341T312 257L296 236L358 151Q424 61 429 57T446 50Q464 46 499 46H516V0H510H502Q494 1 482 1T457 2T432 2T414 3Q403 3 377 3T327 1L304 0H295V46H298Q309 46 320 51T331 63Q331 65 291 120L250 175Q249 174 219 133T185 88Q181 83 181 74Q181 63 188 55T206 46Q208 46 208 23V0H201Z\"/><path stroke-width=\"1\" id=\"MJMAIN-79\" d=\"M69 -66Q91 -66 104 -80T118 -116Q118 -134 109 -145T91 -160Q84 -163 97 -166Q104 -168 111 -168Q131 -168 148 -159T175 -138T197 -106T213 -75T225 -43L242 0L170 183Q150 233 125 297Q101 358 96 368T80 381Q79 382 78 382Q66 385 34 385H19V431H26L46 430Q65 430 88 429T122 428Q129 428 142 428T171 429T200 430T224 430L233 431H241V385H232Q183 385 185 366L286 112Q286 113 332 227L376 341V350Q376 365 366 373T348 383T334 385H331V431H337H344Q351 431 361 431T382 430T405 429T422 429Q477 429 503 431H508V385H497Q441 380 422 345Q420 343 378 235T289 9T227 -131Q180 -204 113 -204Q69 -204 44 -177T19 -116Q19 -89 35 -78T69 -66Z\"/><path stroke-width=\"1\" id=\"MJMAIN-67\" d=\"M329 409Q373 453 429 453Q459 453 472 434T485 396Q485 382 476 371T449 360Q416 360 412 390Q410 404 415 411Q415 412 416 414V415Q388 412 363 393Q355 388 355 386Q355 385 359 381T368 369T379 351T388 325T392 292Q392 230 343 187T222 143Q172 143 123 171Q112 153 112 133Q112 98 138 81Q147 75 155 75T227 73Q311 72 335 67Q396 58 431 26Q470 -13 470 -72Q470 -139 392 -175Q332 -206 250 -206Q167 -206 107 -175Q29 -140 29 -75Q29 -39 50 -15T92 18L103 24Q67 55 67 108Q67 155 96 193Q52 237 52 292Q52 355 102 398T223 442Q274 442 318 416L329 409ZM299 343Q294 371 273 387T221 404Q192 404 171 388T145 343Q142 326 142 292Q142 248 149 227T179 192Q196 182 222 182Q244 182 260 189T283 207T294 227T299 242Q302 258 302 292T299 343ZM403 -75Q403 -50 389 -34T348 -11T299 -2T245 0H218Q151 0 138 -6Q118 -15 107 -34T95 -74Q95 -84 101 -97T122 -127T170 -155T250 -167Q319 -167 361 -139T403 -75Z\"/><path stroke-width=\"1\" id=\"MJMAIN-65\" d=\"M28 218Q28 273 48 318T98 391T163 433T229 448Q282 448 320 430T378 380T406 316T415 245Q415 238 408 231H126V216Q126 68 226 36Q246 30 270 30Q312 30 342 62Q359 79 369 104L379 128Q382 131 395 131H398Q415 131 415 121Q415 117 412 108Q393 53 349 21T250 -11Q155 -11 92 58T28 218ZM333 275Q322 403 238 411H236Q228 411 220 410T195 402T166 381T143 340T127 274V267H333V275Z\"/><path stroke-width=\"1\" id=\"MJMAIN-6E\" d=\"M41 46H55Q94 46 102 60V68Q102 77 102 91T102 122T103 161T103 203Q103 234 103 269T102 328V351Q99 370 88 376T43 385H25V408Q25 431 27 431L37 432Q47 433 65 434T102 436Q119 437 138 438T167 441T178 442H181V402Q181 364 182 364T187 369T199 384T218 402T247 421T285 437Q305 442 336 442Q450 438 463 329Q464 322 464 190V104Q464 66 466 59T477 49Q498 46 526 46H542V0H534L510 1Q487 2 460 2T422 3Q319 3 310 0H302V46H318Q379 46 379 62Q380 64 380 200Q379 335 378 343Q372 371 358 385T334 402T308 404Q263 404 229 370Q202 343 195 315T187 232V168V108Q187 78 188 68T191 55T200 49Q221 46 249 46H265V0H257L234 1Q210 2 183 2T145 3Q42 3 33 0H25V46H41Z\"/></defs><g stroke=\"rgb(42, 63, 95)\" fill=\"rgb(42, 63, 95)\" stroke-width=\"0\" transform=\"matrix(1 0 0 -1 0 0)\"><use transform=\"scale(1.44)\" xlink:href=\"#MJMATHI-54\" x=\"0\" y=\"0\"/><use transform=\"scale(1.44)\" xlink:href=\"#MJMAIN-3D\" x=\"982\" y=\"0\"/><use transform=\"scale(1.44)\" xlink:href=\"#MJMAIN-31\" x=\"2038\" y=\"0\"/><use transform=\"scale(1.44)\" xlink:href=\"#MJMAIN-4B\" x=\"2712\" y=\"0\"/></g></svg></g></g></g></g><g class=\"annotation\" data-index=\"1\" style=\"opacity: 1;\"><g class=\"annotation-text-g\" transform=\"rotate(0,419.7,186.49999999999997)\"><g class=\"cursor-pointer\" transform=\"translate(370,176)\"><rect class=\"bg\" x=\"0.5\" y=\"0.5\" width=\"99\" height=\"19\" style=\"stroke-width: 1px; stroke: rgb(0, 0, 0); stroke-opacity: 0; fill: rgb(0, 0, 0); fill-opacity: 0;\"/><g class=\"annotation-text-math-group\" pointer-events=\"none\" data-unformatted=\"$\\Large \\textrm{Solid oxygen}$\" data-math=\"Y\"><svg xmlns:xlink=\"http://www.w3.org/1999/xlink\" width=\"18.071ex\" height=\"19.046875\" viewBox=\"0 -1125.2 7780.5 1528.3\" role=\"img\" focusable=\"false\" aria-hidden=\"true\" style=\"vertical-align: -0.936ex; overflow: visible; pointer-events: none;\" class=\"annotation-text-math\" preserveAspectRatio=\"xMinYMin meet\" x=\"1\" y=\"2\"><defs id=\"MathJax_SVG_glyphs\"><path stroke-width=\"1\" id=\"MJMATHI-54\" d=\"M40 437Q21 437 21 445Q21 450 37 501T71 602L88 651Q93 669 101 677H569H659Q691 677 697 676T704 667Q704 661 687 553T668 444Q668 437 649 437Q640 437 637 437T631 442L629 445Q629 451 635 490T641 551Q641 586 628 604T573 629Q568 630 515 631Q469 631 457 630T439 622Q438 621 368 343T298 60Q298 48 386 46Q418 46 427 45T436 36Q436 31 433 22Q429 4 424 1L422 0Q419 0 415 0Q410 0 363 1T228 2Q99 2 64 0H49Q43 6 43 9T45 27Q49 40 55 46H83H94Q174 46 189 55Q190 56 191 56Q196 59 201 76T241 233Q258 301 269 344Q339 619 339 625Q339 630 310 630H279Q212 630 191 624Q146 614 121 583T67 467Q60 445 57 441T43 437H40Z\"/><path stroke-width=\"1\" id=\"MJMAIN-3D\" d=\"M56 347Q56 360 70 367H707Q722 359 722 347Q722 336 708 328L390 327H72Q56 332 56 347ZM56 153Q56 168 72 173H708Q722 163 722 153Q722 140 707 133H70Q56 140 56 153Z\"/><path stroke-width=\"1\" id=\"MJMAIN-31\" d=\"M213 578L200 573Q186 568 160 563T102 556H83V602H102Q149 604 189 617T245 641T273 663Q275 666 285 666Q294 666 302 660V361L303 61Q310 54 315 52T339 48T401 46H427V0H416Q395 3 257 3Q121 3 100 0H88V46H114Q136 46 152 46T177 47T193 50T201 52T207 57T213 61V578Z\"/><path stroke-width=\"1\" id=\"MJMAIN-4B\" d=\"M128 622Q121 629 117 631T101 634T58 637H25V683H36Q57 680 180 680Q315 680 324 683H335V637H313Q235 637 233 620Q232 618 232 462L233 307L379 449Q425 494 479 546Q518 584 524 591T531 607V608Q531 630 503 636Q501 636 498 636T493 637H489V683H499Q517 680 630 680Q704 680 716 683H722V637H708Q633 633 589 597Q584 592 495 506T406 419T515 254T631 80Q644 60 662 54T715 46H736V0H728Q719 3 615 3Q493 3 472 0H461V46H469Q515 46 515 72Q515 78 512 84L336 351Q332 348 278 296L232 251V156Q232 62 235 58Q243 47 302 46H335V0H324Q303 3 180 3Q45 3 36 0H25V46H58Q100 47 109 49T128 61V622Z\"/><path stroke-width=\"1\" id=\"MJMAIN-53\" d=\"M55 507Q55 590 112 647T243 704H257Q342 704 405 641L426 672Q431 679 436 687T446 700L449 704Q450 704 453 704T459 705H463Q466 705 472 699V462L466 456H448Q437 456 435 459T430 479Q413 605 329 646Q292 662 254 662Q201 662 168 626T135 542Q135 508 152 480T200 435Q210 431 286 412T370 389Q427 367 463 314T500 191Q500 110 448 45T301 -21Q245 -21 201 -4T140 27L122 41Q118 36 107 21T87 -7T78 -21Q76 -22 68 -22H64Q61 -22 55 -16V101Q55 220 56 222Q58 227 76 227H89Q95 221 95 214Q95 182 105 151T139 90T205 42T305 24Q352 24 386 62T420 155Q420 198 398 233T340 281Q284 295 266 300Q261 301 239 306T206 314T174 325T141 343T112 367T85 402Q55 451 55 507Z\"/><path stroke-width=\"1\" id=\"MJMAIN-6F\" d=\"M28 214Q28 309 93 378T250 448Q340 448 405 380T471 215Q471 120 407 55T250 -10Q153 -10 91 57T28 214ZM250 30Q372 30 372 193V225V250Q372 272 371 288T364 326T348 362T317 390T268 410Q263 411 252 411Q222 411 195 399Q152 377 139 338T126 246V226Q126 130 145 91Q177 30 250 30Z\"/><path stroke-width=\"1\" id=\"MJMAIN-6C\" d=\"M42 46H56Q95 46 103 60V68Q103 77 103 91T103 124T104 167T104 217T104 272T104 329Q104 366 104 407T104 482T104 542T103 586T103 603Q100 622 89 628T44 637H26V660Q26 683 28 683L38 684Q48 685 67 686T104 688Q121 689 141 690T171 693T182 694H185V379Q185 62 186 60Q190 52 198 49Q219 46 247 46H263V0H255L232 1Q209 2 183 2T145 3T107 3T57 1L34 0H26V46H42Z\"/><path stroke-width=\"1\" id=\"MJMAIN-69\" d=\"M69 609Q69 637 87 653T131 669Q154 667 171 652T188 609Q188 579 171 564T129 549Q104 549 87 564T69 609ZM247 0Q232 3 143 3Q132 3 106 3T56 1L34 0H26V46H42Q70 46 91 49Q100 53 102 60T104 102V205V293Q104 345 102 359T88 378Q74 385 41 385H30V408Q30 431 32 431L42 432Q52 433 70 434T106 436Q123 437 142 438T171 441T182 442H185V62Q190 52 197 50T232 46H255V0H247Z\"/><path stroke-width=\"1\" id=\"MJMAIN-64\" d=\"M376 495Q376 511 376 535T377 568Q377 613 367 624T316 637H298V660Q298 683 300 683L310 684Q320 685 339 686T376 688Q393 689 413 690T443 693T454 694H457V390Q457 84 458 81Q461 61 472 55T517 46H535V0Q533 0 459 -5T380 -11H373V44L365 37Q307 -11 235 -11Q158 -11 96 50T34 215Q34 315 97 378T244 442Q319 442 376 393V495ZM373 342Q328 405 260 405Q211 405 173 369Q146 341 139 305T131 211Q131 155 138 120T173 59Q203 26 251 26Q322 26 373 103V342Z\"/><path stroke-width=\"1\" id=\"MJMAIN-78\" d=\"M201 0Q189 3 102 3Q26 3 17 0H11V46H25Q48 47 67 52T96 61T121 78T139 96T160 122T180 150L226 210L168 288Q159 301 149 315T133 336T122 351T113 363T107 370T100 376T94 379T88 381T80 383Q74 383 44 385H16V431H23Q59 429 126 429Q219 429 229 431H237V385Q201 381 201 369Q201 367 211 353T239 315T268 274L272 270L297 304Q329 345 329 358Q329 364 327 369T322 376T317 380T310 384L307 385H302V431H309Q324 428 408 428Q487 428 493 431H499V385H492Q443 385 411 368Q394 360 377 341T312 257L296 236L358 151Q424 61 429 57T446 50Q464 46 499 46H516V0H510H502Q494 1 482 1T457 2T432 2T414 3Q403 3 377 3T327 1L304 0H295V46H298Q309 46 320 51T331 63Q331 65 291 120L250 175Q249 174 219 133T185 88Q181 83 181 74Q181 63 188 55T206 46Q208 46 208 23V0H201Z\"/><path stroke-width=\"1\" id=\"MJMAIN-79\" d=\"M69 -66Q91 -66 104 -80T118 -116Q118 -134 109 -145T91 -160Q84 -163 97 -166Q104 -168 111 -168Q131 -168 148 -159T175 -138T197 -106T213 -75T225 -43L242 0L170 183Q150 233 125 297Q101 358 96 368T80 381Q79 382 78 382Q66 385 34 385H19V431H26L46 430Q65 430 88 429T122 428Q129 428 142 428T171 429T200 430T224 430L233 431H241V385H232Q183 385 185 366L286 112Q286 113 332 227L376 341V350Q376 365 366 373T348 383T334 385H331V431H337H344Q351 431 361 431T382 430T405 429T422 429Q477 429 503 431H508V385H497Q441 380 422 345Q420 343 378 235T289 9T227 -131Q180 -204 113 -204Q69 -204 44 -177T19 -116Q19 -89 35 -78T69 -66Z\"/><path stroke-width=\"1\" id=\"MJMAIN-67\" d=\"M329 409Q373 453 429 453Q459 453 472 434T485 396Q485 382 476 371T449 360Q416 360 412 390Q410 404 415 411Q415 412 416 414V415Q388 412 363 393Q355 388 355 386Q355 385 359 381T368 369T379 351T388 325T392 292Q392 230 343 187T222 143Q172 143 123 171Q112 153 112 133Q112 98 138 81Q147 75 155 75T227 73Q311 72 335 67Q396 58 431 26Q470 -13 470 -72Q470 -139 392 -175Q332 -206 250 -206Q167 -206 107 -175Q29 -140 29 -75Q29 -39 50 -15T92 18L103 24Q67 55 67 108Q67 155 96 193Q52 237 52 292Q52 355 102 398T223 442Q274 442 318 416L329 409ZM299 343Q294 371 273 387T221 404Q192 404 171 388T145 343Q142 326 142 292Q142 248 149 227T179 192Q196 182 222 182Q244 182 260 189T283 207T294 227T299 242Q302 258 302 292T299 343ZM403 -75Q403 -50 389 -34T348 -11T299 -2T245 0H218Q151 0 138 -6Q118 -15 107 -34T95 -74Q95 -84 101 -97T122 -127T170 -155T250 -167Q319 -167 361 -139T403 -75Z\"/><path stroke-width=\"1\" id=\"MJMAIN-65\" d=\"M28 218Q28 273 48 318T98 391T163 433T229 448Q282 448 320 430T378 380T406 316T415 245Q415 238 408 231H126V216Q126 68 226 36Q246 30 270 30Q312 30 342 62Q359 79 369 104L379 128Q382 131 395 131H398Q415 131 415 121Q415 117 412 108Q393 53 349 21T250 -11Q155 -11 92 58T28 218ZM333 275Q322 403 238 411H236Q228 411 220 410T195 402T166 381T143 340T127 274V267H333V275Z\"/><path stroke-width=\"1\" id=\"MJMAIN-6E\" d=\"M41 46H55Q94 46 102 60V68Q102 77 102 91T102 122T103 161T103 203Q103 234 103 269T102 328V351Q99 370 88 376T43 385H25V408Q25 431 27 431L37 432Q47 433 65 434T102 436Q119 437 138 438T167 441T178 442H181V402Q181 364 182 364T187 369T199 384T218 402T247 421T285 437Q305 442 336 442Q450 438 463 329Q464 322 464 190V104Q464 66 466 59T477 49Q498 46 526 46H542V0H534L510 1Q487 2 460 2T422 3Q319 3 310 0H302V46H318Q379 46 379 62Q380 64 380 200Q379 335 378 343Q372 371 358 385T334 402T308 404Q263 404 229 370Q202 343 195 315T187 232V168V108Q187 78 188 68T191 55T200 49Q221 46 249 46H265V0H257L234 1Q210 2 183 2T145 3Q42 3 33 0H25V46H41Z\"/></defs><g stroke=\"rgb(42, 63, 95)\" fill=\"rgb(42, 63, 95)\" stroke-width=\"0\" transform=\"matrix(1 0 0 -1 0 0)\"><use transform=\"scale(1.44)\" xlink:href=\"#MJMAIN-53\"/><use transform=\"scale(1.44)\" xlink:href=\"#MJMAIN-6F\" x=\"556\" y=\"0\"/><use transform=\"scale(1.44)\" xlink:href=\"#MJMAIN-6C\" x=\"1057\" y=\"0\"/><use transform=\"scale(1.44)\" xlink:href=\"#MJMAIN-69\" x=\"1335\" y=\"0\"/><use transform=\"scale(1.44)\" xlink:href=\"#MJMAIN-64\" x=\"1614\" y=\"0\"/><use transform=\"scale(1.44)\" xlink:href=\"#MJMAIN-6F\" x=\"2344\" y=\"0\"/><use transform=\"scale(1.44)\" xlink:href=\"#MJMAIN-78\" x=\"2844\" y=\"0\"/><use transform=\"scale(1.44)\" xlink:href=\"#MJMAIN-79\" x=\"3373\" y=\"0\"/><use transform=\"scale(1.44)\" xlink:href=\"#MJMAIN-67\" x=\"3901\" y=\"0\"/><use transform=\"scale(1.44)\" xlink:href=\"#MJMAIN-65\" x=\"4402\" y=\"0\"/><use transform=\"scale(1.44)\" xlink:href=\"#MJMAIN-6E\" x=\"4846\" y=\"0\"/></g></svg></g></g></g></g></g></svg>"
      ]
     },
     "metadata": {},
     "output_type": "display_data"
    }
   ],
   "source": [
    "fig = make_subplots(rows = 1, cols = 1)\n",
    "fig.add_trace(\n",
    "    go.Scatter(\n",
    "        x = E,\n",
    "        y = xs_scat,\n",
    "        mode = 'lines',\n",
    "        name = 'Scattering',\n",
    "    ),\n",
    "    row = 1, col = 1\n",
    ")\n",
    "fig.add_trace(\n",
    "    go.Scatter(\n",
    "        x = E,\n",
    "        y = xs_abs,\n",
    "        mode = 'lines',\n",
    "        name = 'Absorption',\n",
    "    ),\n",
    "    row = 1, col = 1\n",
    ")\n",
    "fig.add_trace(\n",
    "    go.Scatter(\n",
    "        x = E2,\n",
    "        y = xs_down,\n",
    "        mode = 'lines',\n",
    "        name = 'Magnetic down-scat',\n",
    "    ),\n",
    "    row = 1, col = 1\n",
    ")\n",
    "fig.add_trace(\n",
    "    go.Scatter(\n",
    "        x = E2,\n",
    "        y = xs_up,\n",
    "        mode = 'lines',\n",
    "        name = 'Magnetic up-scat',\n",
    "    ),\n",
    "    row = 1, col = 1\n",
    ")\n",
    "fig.update_xaxes(type = 'log', title = 'Incident neutron energy (eV)', \n",
    "                 exponentformat = 'power')\n",
    "fig.update_yaxes(type = 'log', title = 'Cross section (barn)',\n",
    "                 exponentformat = 'power')\n",
    "fig.add_annotation(xref='paper',yref='paper',x=.9, y=.7, \n",
    "                   text=r'$\\Large T=1\\textrm{ K}$', showarrow=False)\n",
    "fig.add_annotation(xref='paper',yref='paper',x=.9, y=.55, \n",
    "                   text=r'$\\Large \\textrm{Solid oxygen}$', showarrow=False)\n",
    "fig.update_layout(margin = dict(l = 80, r = 20, t = 20, b = 60))\n",
    "fig.show('svg')"
   ]
  },
  {
   "cell_type": "markdown",
   "metadata": {},
   "source": [
    "## Simple Monte-Carlo simulation "
   ]
  },
  {
   "cell_type": "code",
   "execution_count": 6,
   "metadata": {},
   "outputs": [],
   "source": [
    "O2_info = NC.createInfo('ncplugin-MagScat_O2_sg223_SolidOxygen-gamma.ncmat')\n",
    "\n",
    "def sample_particle():\n",
    "    E = 1 # eV\n",
    "    frac = 0.25\n",
    "    particle = {'energy':E,'fraction':frac}\n",
    "    return particle\n",
    "\n",
    "def AbsorptionXS(E,frac):\n",
    "    return frac*O2_info.getNumberDensity()*O2_abs.crossSectionNonOriented(E)\n",
    "\n",
    "def ScatteringXS(E,frac):\n",
    "    return frac*O2_info.getNumberDensity()*O2_scat.crossSectionNonOriented(E)\n",
    "\n",
    "def MagneticDownXS(E,frac):\n",
    "    return frac*O2_info.getNumberDensity()*O2_down.crossSectionIsotropic(E)\n",
    "\n",
    "def MagneticUpXS(E,frac):\n",
    "    return frac*O2_info.getNumberDensity()*O2_up.crossSectionIsotropic(E)\n",
    "\n",
    "def sample_scattering(p):\n",
    "    return O2_scat.sampleScatterIsotropic(p['energy'])[0]\n",
    "\n",
    "def sample_magnetic_down(p):\n",
    "    return O2_down.sampleScatterIsotropic(p['energy'])[0]\n",
    "\n",
    "def sample_magnetic_up(p):\n",
    "    return O2_up.sampleScatterIsotropic(p['energy'])[0]"
   ]
  },
  {
   "cell_type": "markdown",
   "metadata": {},
   "source": [
    "### Without magnetic effects "
   ]
  },
  {
   "cell_type": "code",
   "execution_count": 7,
   "metadata": {},
   "outputs": [
    {
     "name": "stdout",
     "output_type": "stream",
     "text": [
      "Total computation time : 1110 s.\n"
     ]
    }
   ],
   "source": [
    "start_time = time.time()\n",
    "NPart = 5000\n",
    "energies = []\n",
    "weights = []\n",
    "particles = [sample_particle() for i in range(NPart)]\n",
    "sampler = qmc.LatinHypercube(d=1)\n",
    "\n",
    "for p in particles:\n",
    "    absorbed = False\n",
    "    while not absorbed:\n",
    "        #\n",
    "        # Calculate XS for the current energies\n",
    "        #\n",
    "        Sigma_a = AbsorptionXS(p['energy'], p['fraction'])\n",
    "        Sigma_s = ScatteringXS(p['energy'], p['fraction'])\n",
    "        Sigma_t = Sigma_s + Sigma_a\n",
    "\n",
    "        #\n",
    "        # Increment tallies using collision estimator\n",
    "        #\n",
    "        energies.append(p['energy'])\n",
    "        weights.append(1/Sigma_t)\n",
    "\n",
    "        #\n",
    "        # Handle reactions\n",
    "        #\n",
    "        r = sampler.random(n=1)\n",
    "        if r < Sigma_a/Sigma_t:\n",
    "            absorbed = True\n",
    "        else:\n",
    "            p['energy'] = sample_scattering(p)\n",
    "print('Total computation time : {:.4g} s.'.format(time.time() - start_time))"
   ]
  },
  {
   "cell_type": "markdown",
   "metadata": {},
   "source": [
    "### With magnetic effects "
   ]
  },
  {
   "cell_type": "code",
   "execution_count": 8,
   "metadata": {},
   "outputs": [
    {
     "name": "stdout",
     "output_type": "stream",
     "text": [
      "Total computation time : 64.02 s.\n"
     ]
    }
   ],
   "source": [
    "start_time = time.time()\n",
    "NPart = 5000\n",
    "energies_mag = []\n",
    "weights_mag = []\n",
    "particles = [sample_particle() for i in range(NPart)]\n",
    "sampler = qmc.LatinHypercube(d=1)\n",
    "\n",
    "for i, p in enumerate(particles):\n",
    "    absorbed = False\n",
    "    while not absorbed:\n",
    "        #\n",
    "        # Calculate XS for the current energies\n",
    "        #\n",
    "        Sigma_a = AbsorptionXS(p['energy'], p['fraction'])\n",
    "        Sigma_s = ScatteringXS(p['energy'], p['fraction'])\n",
    "        Sigma_r_d = MagneticDownXS(p['energy'], p['fraction'])\n",
    "        Sigma_r_u = MagneticUpXS(p['energy'], p['fraction'])\n",
    "        Sigma_t = Sigma_s + Sigma_a + Sigma_r_d + Sigma_r_u\n",
    "\n",
    "        #\n",
    "        # Increment tallies using collision estimator\n",
    "        #\n",
    "        energies_mag.append(p['energy'])\n",
    "        weights_mag.append(1/Sigma_t)\n",
    "\n",
    "        #\n",
    "        # Handle reactions\n",
    "        #\n",
    "        r = sampler.random(n=1)\n",
    "        if r < Sigma_a/Sigma_t:\n",
    "            absorbed = True\n",
    "        elif r < (Sigma_s+Sigma_a)/Sigma_t:\n",
    "            p['energy'] = sample_scattering(p)\n",
    "        elif r < (Sigma_r_u+Sigma_s+Sigma_a)/Sigma_t:\n",
    "            p['energy'] = sample_magnetic_up(p)\n",
    "        else:\n",
    "            p['energy'] = sample_magnetic_down(p)\n",
    "print('Total computation time : {:.4g} s.'.format(time.time() - start_time))"
   ]
  },
  {
   "cell_type": "markdown",
   "metadata": {},
   "source": [
    "## Neutron distribution"
   ]
  },
  {
   "cell_type": "code",
   "execution_count": 12,
   "metadata": {},
   "outputs": [
    {
     "data": {
      "application/vnd.plotly.v1+json": {
       "config": {
        "plotlyServerURL": "https://plot.ly"
       },
       "data": [
        {
         "fill": "tozeroy",
         "line": {
          "shape": "hvh"
         },
         "name": "Without magnetic effects",
         "type": "scatter",
         "x": [
          1.3716014169155309e-05,
          1.4509884841957244e-05,
          1.5349704041595254e-05,
          1.6238131227841174e-05,
          1.7177979787627714e-05,
          1.8172225944215192e-05,
          1.9224018182013042e-05,
          2.0336687216901566e-05,
          2.1513756543627e-05,
          2.2758953593670487e-05,
          2.4076221538924285e-05,
          2.5469731778554734e-05,
          2.6943897148593228e-05,
          2.850338589608678e-05,
          3.0153136462059925e-05,
          3.1898373120101315e-05,
          3.374462252009749e-05,
          3.569773118950381e-05,
          3.776388404757272e-05,
          3.9949623991169404e-05,
          4.226187261419683e-05,
          4.470795212624282e-05,
          4.729560853985842e-05,
          5.003303619989609e-05,
          5.2928903732583335e-05,
          5.5992381496505944e-05,
          5.923317062242964e-05,
          6.266153373392078e-05,
          6.628832744604861e-05,
          7.012503674508476e-05,
          7.418381135806762e-05,
          7.847750422740561e-05,
          8.30197122123558e-05,
          8.782481914626815e-05,
          9.290804138594378e-05,
          9.828547599735111e-05,
          0.00010397415173028679,
          0.00010999208294340513,
          0.00011635832665038042,
          0.00012309304286784942,
          0.00013021755845624042,
          0.00013775443465565071,
          0.0001457275385306423,
          0.0001541621185501973,
          0.00016308488454217472,
          0.0001725240922754586,
          0.00018250963293764785,
          0.00019307312779163192,
          0.00020424802831080775,
          0.0002160697221100316,
          0.0002285756450077608,
          0.00024180539957425277,
          0.0002558008805412266,
          0.00027060640747012573,
          0.0002862688650991013,
          0.0003028378518131523,
          0.00032036583670758654,
          0.0003389083257421742,
          0.00035852403751215493,
          0.0003792750891927153,
          0.00040122719324576746,
          0.0004244498655119383,
          0.0004490166453467396,
          0.00047500532849802297,
          0.0005024982134621728,
          0.0005315823620991783,
          0.0005623498753318731,
          0.0005948981848024001,
          0.0006293303614094921,
          0.0006657554417036177,
          0.0007042887731735836,
          0.0007450523795180203,
          0.0007881753470584569,
          0.0008337942335176365,
          0.0008820535004575587,
          0.00093310597074665,
          0.0009871133125047243,
          0.0010442465510582487,
          0.0011046866105271262,
          0.0011686248867580312,
          0.0012362638534186218,
          0.0013078177031719436,
          0.001383513025961431,
          0.0014635895265544528,
          0.0015483007836166204,
          0.001637915052720659,
          0.0017327161158327037,
          0.0018330041799661033,
          0.0019390968278485213,
          0.0020513300236127854,
          0.002170059176696227,
          0.0022956602673175805,
          0.0024285310370954706,
          0.002569092248578828,
          0.002717789017677829,
          0.002875092223214727,
          0.0030414999980582294,
          0.0032175393065634254,
          0.003403767613312505,
          0.003600774648440721,
          0.0038091842751378207,
          0.004029656465238835,
          0.004262889389160267,
          0.004509621626799921,
          0.004770634506401684,
          0.005046754578791675,
          0.005338856234820974,
          0.00564786447430365,
          0.0059747578352184125,
          0.0063205714924498245,
          0.006686400535881973,
          0.007073403438225201,
          0.007482805723557571,
          0.0079159038481983,
          0.008374069306202615,
          0.008858752972479005,
          0.009371489697282282,
          0.009913903166631753,
          0.010487711044046033,
          0.011094730409876992,
          0.011736883515467414,
          0.012416203870354147,
          0.013134842681793277,
          0.013895075666999152,
          0.014699310259669723,
          0.015550093233619293,
          0.01645011876766018,
          0.017402236977272556,
          0.01840946294007986,
          0.019474986243710555,
          0.020602181086281576,
          0.021794616961488964,
          0.02305606996214182,
          0.024390534737934715,
          0.02580223714532554,
          0.027295647629576775,
          0.028875495381337383,
          0.030546783312595274,
          0.032314803899424316,
          0.03418515594169538,
          0.03616376229282488,
          0.03825688861570492,
          0.040471163224210134,
          0.04281359807311342,
          0.04529161096287905,
          0.04791304902964933,
          0.050686213594811215,
          0.053619886452833214,
          0.05672335768061888,
          0.060006455056441366,
          0.06347957518161916,
          0.06715371640348672,
          0.0710405136439178,
          0.0751522752436921,
          0.07950202193938104,
          0.08410352809618152,
          0.08897136532726868,
          0.09412094863779798,
          0.09956858523968161,
          0.10533152619171993,
          0.11142802102861805,
          0.11787737555188077,
          0.12470001296559387,
          0.13191753855068913,
          0.13955280808249806,
          0.14763000020825354,
          0.15617469301373596,
          0.165213945021529,
          0.17477638087738087,
          0.18489228199601893,
          0.19559368245345984,
          0.20691447042948297,
          0.21889049552150325,
          0.23155968226967594,
          0.24496215025273074,
          0.25914034113485057,
          0.2741391530659056,
          0.2900060828606556,
          0.3067913764071568,
          0.3245481877806748,
          0.34333274756696436,
          0.36320454092795856,
          0.38422649597373365,
          0.4064651830372789,
          0.4299910254831123,
          0.45487852271731116,
          0.4812064861051604,
          0.509058288543513,
          0.5385221284781672,
          0.5696913092023382,
          0.6026645343206765,
          0.6375462203144803,
          0.674446827197898,
          0.71348320831223,
          0.7547789803659998,
          0.7984649148926201,
          0.8446793523652798,
          0.893568640280431,
          0.9452875965971588,
          1
         ],
         "xaxis": "x",
         "y": [
          67748.67067000996,
          0,
          0,
          0,
          0,
          0,
          0,
          0,
          0,
          0,
          0,
          0,
          0,
          95150.95419607211,
          0,
          200500.20152276236,
          0,
          0,
          0,
          219196.43077692896,
          112289.13393184537,
          0,
          0,
          0,
          0,
          0,
          0,
          0,
          136118.17432791073,
          0,
          285754.4998748979,
          1174502.7457949682,
          296530.72868449613,
          455522.1189839763,
          314137.558250934,
          158551.61253975038,
          977882.7217198992,
          0,
          1199171.8797556928,
          523836.8060552571,
          892545.1361100224,
          2555880.1205686233,
          2050815.9010678302,
          2483135.346798288,
          1946232.7166523484,
          3174856.16044313,
          2230360.13350193,
          4553831.552371951,
          7609661.632301359,
          4943671.48460643,
          2422156.398196747,
          8082486.600959879,
          10067007.384877818,
          9532984.209739357,
          12802446.584043961,
          18409188.495271295,
          9366259.593477916,
          17091742.26215419,
          21494428.290961016,
          18210762.933676142,
          30189937.640684534,
          25022490.561114788,
          34294955.691081785,
          39007584.45477499,
          31395610.596915305,
          49333995.228517234,
          46395155.75953771,
          67153826.07673949,
          66406467.48927693,
          85904519.4141833,
          72121859.92708784,
          90768519.75949295,
          100235834.28619242,
          95612010.11232123,
          94441951.08890918,
          118058381.22649567,
          123502367.97771518,
          99760351.16293482,
          134225353.7184187,
          139565780.40835327,
          124285155.26844923,
          120718992.86567971,
          127510504.04268683,
          114621496.03888091,
          123314911.18657309,
          92952566.86584637,
          102416858.95056829,
          91474543.74230792,
          79372400.67955458,
          63797781.32971151,
          61237156.976777986,
          43254541.458200485,
          43571553.97109561,
          35052801.23796929,
          34714962.55180708,
          33409067.25201238,
          25844686.119166616,
          20516039.267610054,
          17457654.17336259,
          14165866.482409893,
          15705157.34360748,
          11939586.682813682,
          10241502.535862125,
          9731396.435130855,
          8350791.666055925,
          5966514.447414551,
          4483057.306380667,
          4560847.761221753,
          3414422.9700483903,
          2813299.341627031,
          2583655.587853966,
          2158890.2798666046,
          1790006.672142795,
          1623841.1987943528,
          1517032.0746946558,
          1356065.9161174586,
          1161977.0131716705,
          1057003.7660660006,
          854883.1880283974,
          864173.3368192599,
          861355.1470505864,
          762867.1102265079,
          747177.3989565155,
          767585.9552818895,
          695397.6626085556,
          634549.7960485487,
          612978.4497455806,
          641696.59519093,
          601747.5388378169,
          592067.4568306638,
          564389.9357030228,
          565173.7019747668,
          518384.8916599268,
          576189.6094541487,
          558707.4810975097,
          496250.0627610684,
          530653.8952418237,
          476017.83047273476,
          508399.83894310595,
          500331.25884882634,
          493355.8716914072,
          463522.88080085727,
          468264.3192785495,
          458966.7405070855,
          487140.8445062638,
          449944.33092841035,
          452301.8572069588,
          446177.39814925846,
          462610.11867847684,
          451021.2468956335,
          434972.1186910556,
          449852.2854873369,
          433853.8079104521,
          448863.1558158087,
          435518.4298148972,
          434596.3241740378,
          434298.4684665759,
          422066.7739895679,
          418653.80239032477,
          429363.2681825164,
          422297.1978997921,
          407333.10024435987,
          409120.2138236378,
          415785.0130101662,
          411377.4390402472,
          413230.1753054581,
          415907.0779504918,
          400431.2574825726,
          397331.5465672224,
          398804.7468314498,
          410431.7065080885,
          403941.53414168465,
          407437.2896843459,
          406367.6784236876,
          396180.4865598529,
          408621.1715819191,
          409580.7220419311,
          399409.82869895134,
          403079.24296752375,
          396473.9895072475,
          375906.59156866267,
          399617.90073687,
          391863.79360494,
          405134.1365084034,
          397900.0340015736,
          401594.2729518607,
          393039.77384646394,
          412687.5549080935,
          402262.5111539504,
          388838.58581953665,
          393708.5272143123,
          394388.0513525473,
          412328.6774093594,
          393267.8192728201,
          361001.10302572325,
          422788.95121571934,
          419658.98883639055,
          367537.5102877637,
          261117.55042865366,
          1100266.025319361
         ],
         "yaxis": "y"
        },
        {
         "fill": "tozeroy",
         "line": {
          "shape": "hvh"
         },
         "name": "With magnetic effects",
         "type": "scatter",
         "x": [
          5.2751375462439144e-08,
          5.738593705221689e-08,
          6.242767591350933e-08,
          6.79123652963264e-08,
          7.38789213702513e-08,
          8.036967935097117e-08,
          8.74306938863738e-08,
          9.511206583357399e-08,
          1.0346829774548994e-07,
          1.1255868058929612e-07,
          1.2244771444068174e-07,
          1.3320556613891695e-07,
          1.449085671499825e-07,
          1.5763975517030684e-07,
          1.714894633140211e-07,
          1.8655596106425842e-07,
          2.0294615153631756e-07,
          2.2077633000006487e-07,
          2.4017300904360856e-07,
          2.61273816233127e-07,
          2.842284706381272e-07,
          3.091998451509811e-07,
          3.3636512213835206e-07,
          3.659170506243363e-07,
          3.9806531392556196e-07,
          4.3303801744219035e-07,
          4.71083307161319e-07,
          5.124711303567518e-07,
          5.574951509780249e-07,
          6.064748333191958e-07,
          6.59757708751882e-07,
          7.177218416059803e-07,
          7.807785116945183e-07,
          8.493751325162769e-07,
          9.239984258420639e-07,
          1.0051778752096335e-06,
          1.093489482831278e-06,
          1.1895598565709024e-06,
          1.2940706559894037e-06,
          1.4077634290049127e-06,
          1.531444873486022e-06,
          1.6659925611112339e-06,
          1.81236116410774e-06,
          1.971589229050982e-06,
          2.1448065457877827e-06,
          2.3332421637687723e-06,
          2.538233112669286e-06,
          2.761233889175197e-06,
          3.003826777246453e-06,
          3.267733075084781e-06,
          3.5548253084658365e-06,
          3.867140517094215e-06,
          4.206894708253828e-06,
          4.576498580308219e-06,
          4.9785746276156604e-06,
          5.415975748225669e-06,
          5.8918054863860775e-06,
          6.409440053490213e-06,
          6.972552283711375e-06,
          7.585137694300623e-06,
          8.251542835455886e-06,
          8.976496130917148e-06,
          9.765141428114363e-06,
          1.0623074495920524e-05,
          1.155638272897689e-05,
          1.2571688340308706e-05,
          1.3676195348702027e-05,
          1.4877740694235672e-05,
          1.6184849844655345e-05,
          1.7606797287139938e-05,
          1.915367233467461e-05,
          2.0836450713954604e-05,
          2.2667072442765228e-05,
          2.4658526549412172e-05,
          2.6824943235320066e-05,
          2.918169413473319e-05,
          3.174550138290202e-05,
          3.4534556266640354e-05,
          3.7568648299128814e-05,
          4.0869305634803075e-05,
          4.4459947820632204e-05,
          4.836605196761775e-05,
          5.2615333521573095e-05,
          5.7237942915825905e-05,
          6.226667950117721e-05,
          6.773722427104095e-05,
          7.36883930330432e-05,
          8.016241182344547e-05,
          8.720521651856495e-05,
          9.486677876906906e-05,
          0.00010320146056977639,
          0.00011226839998079156,
          0.00012213193073682383,
          0.000132862038721995,
          0.00014453485854901471,
          0.00015723321376616306,
          0.00017104720452507392,
          0.00018607484687906746,
          0.0002024227682481234,
          0.00022020696398510875,
          0.0002395536204114162,
          0.00026060001016179284,
          0.0002834954661912097,
          0.00030840244135475645,
          0.0003354976610787266,
          0.00036497337730157414,
          0.0003970387325819827,
          0.00043192124405296207,
          0.0004698684177512518,
          0.0005111495047763687,
          0.0005560574117399939,
          0.0006049107790611243,
          0.0006580562418533771,
          0.0007158708894463811,
          0.0007787649409925931,
          0.0008471846561440911,
          0.0009216155014518131,
          0.0010025855949541832,
          0.001090669453395896,
          0.0011864920686649838,
          0.0012907333423721702,
          0.0014041329100377166,
          0.00152749538911539,
          0.0016616960880904811,
          0.0018076872171603087,
          0.0019665046445646183,
          0.002139275246504811,
          0.0023272249028028357,
          0.0025316871950322403,
          0.0027541128688382834,
          0.0029960801275862375,
          0.003259305830375622,
          0.003545657673875004,
          0.003857167444412502,
          0.004196045434351247,
          0.004564696125039936,
          0.004965735247615626,
          0.005402008342712296,
          0.005876610950764096,
          0.0063929105761619314,
          0.006954570581108351,
          0.007565576178707469,
          0.008230262709722026,
          0.00895334640363286,
          0.009739957842263449,
          0.01059567836340797,
          0.01152657966276184,
          0.012539266875147169,
          0.013640925440712132,
          0.014839372088640036,
          0.016143110300118533,
          0.017561390644102108,
          0.01910427641397535,
          0.020782715030836642,
          0.022608615720038427,
          0.024594934012131937,
          0.026755763667785322,
          0.029106436678921915,
          0.031663632055627874,
          0.034445494170718266,
          0.03747176150166575,
          0.04076390668336976,
          0.04434528886549977,
          0.04824131945545059,
          0.05247964242292704,
          0.05709033044549339,
          0.06210609828682293,
          0.06756253492165569,
          0.0734983560544881,
          0.0799556788237204,
          0.08698032064040388,
          0.0946221242819715,
          0.10293531154763155,
          0.11197886798475502,
          0.12181696141605268,
          0.1325193972371673,
          0.14416211371520812,
          0.15682772080257984,
          0.17060608628921162,
          0.18559497345218773,
          0.20190073472716696,
          0.21963906632348146,
          0.23893582913722566,
          0.25992794178705725,
          0.28276435210917306,
          0.3076070940046271,
          0.3346324371377572,
          0.36403213764332304,
          0.3960147987166391,
          0.4308073507406624,
          0.46865666145215723,
          0.5098312875717386,
          0.5546233803263501,
          0.6033507583846424,
          0.6563591629136157,
          0.7140247107570855,
          0.7767565631423037,
          0.84499982885033,
          0.9192387224493601,
          1
         ],
         "xaxis": "x",
         "y": [
          9300.649512280947,
          0,
          0,
          0,
          0,
          0,
          0,
          0,
          9100.726440755074,
          3572.9423243869705,
          0,
          0,
          0,
          0,
          0,
          3816.282535476591,
          0,
          0,
          1335.6304349546326,
          10380.727905427591,
          6554.332564482638,
          0,
          0,
          0,
          0,
          0,
          0,
          0,
          0,
          0,
          0,
          16537.24515730621,
          0,
          45740.07411035232,
          12840.517837205525,
          14905.242020918698,
          708.6026338234782,
          56265.41608567723,
          94967.08875224453,
          0,
          0,
          22636.881967462054,
          171568.0476030085,
          46991.41078452199,
          7028.208116455109,
          0,
          164648.74237703264,
          11230.847495929145,
          56331.53038728341,
          0,
          24240.349244591584,
          128995.51313844405,
          298226.088838331,
          119211.9818714039,
          99089.06371263576,
          526540.9076366392,
          192713.3408152508,
          669236.8254015696,
          668010.3052458043,
          266722.63712418673,
          366485.9506769563,
          936230.335338344,
          178006.85644778132,
          402112.89853045647,
          370385.5987122918,
          507429.7577136039,
          1198779.9639253449,
          645076.6156103946,
          806428.0401115136,
          1427126.6371050652,
          744382.7174533887,
          2600933.3543175813,
          1595332.2667812146,
          2192658.4165729643,
          2115738.4059578767,
          2826526.746634069,
          3768024.843127312,
          2510408.7930950588,
          4190990.41100435,
          7013390.977671796,
          4649920.599041077,
          5089679.634275493,
          6805443.545937963,
          7417408.1634909995,
          11733355.143281126,
          11257514.111965498,
          13751248.847048072,
          12311849.721369522,
          21028794.530729532,
          17970257.594374545,
          24232182.216629215,
          23304756.50938705,
          25362404.752183378,
          31337203.515219595,
          45544476.900921345,
          46157541.44572534,
          35386287.62851104,
          45938451.30175905,
          55505066.66127956,
          53486104.92519386,
          80505097.75676244,
          87436466.27987552,
          122254181.89299977,
          98557488.98489994,
          107424659.99026893,
          125802847.00311306,
          147571949.17672315,
          24199336.624651942,
          5807688.432559407,
          5760495.061699577,
          5772748.10407795,
          4593491.181884517,
          5427262.068430569,
          6276295.681880621,
          5946617.0756294485,
          2245488.8721940527,
          375449.68352815456,
          337410.4374982247,
          388411.07832337066,
          379234.8112296822,
          276940.7937595384,
          301550.26004299126,
          325681.5299801649,
          339877.46291107277,
          392974.1233483014,
          429670.94406994106,
          462491.63417931774,
          530830.7958100853,
          569322.4286010076,
          635925.7748120324,
          679568.8340622025,
          738795.9726835226,
          822456.737504213,
          928141.1724320701,
          956405.9504355855,
          1023486.6714036283,
          1109268.0432061027,
          1188239.9487624546,
          1209847.5576098505,
          1243401.4964241944,
          1240487.7877342526,
          1220093.2081647539,
          1168953.4730948212,
          1138473.9352482688,
          1147712.344230695,
          1067769.6787152723,
          993675.0007686052,
          1046710.6528611403,
          946815.915815189,
          953747.8701589784,
          872873.3970482073,
          910531.0881855794,
          824925.6690760184,
          770291.7117966077,
          740020.5856704019,
          774400.5484839255,
          742380.5520566569,
          746071.1411936987,
          715131.6435613062,
          710784.5091286799,
          724566.4030812702,
          731618.7214412099,
          696667.598999492,
          683200.9068626811,
          680222.2009098724,
          683389.9615865267,
          674996.6684927183,
          656922.159622846,
          655602.3957924282,
          618338.8844771791,
          658339.7638860975,
          641845.7585021363,
          652924.1468348436,
          633508.1592330459,
          616668.6311704075,
          620535.5883430254,
          622880.068010415,
          614030.1346960766,
          600888.4001632209,
          615441.5360228652,
          605502.8323497055,
          603376.3686374613,
          603387.9422975694,
          596334.0728560267,
          597110.504737238,
          602885.5171462841,
          590079.6084014613,
          589133.1492928566,
          596043.8920402485,
          597934.213706703,
          597313.1341209909,
          587831.2844526068,
          596006.3945468352,
          587638.8725839072,
          591646.175989082,
          580310.7177346532,
          542295.4703021175,
          664626.125103909,
          469183.95668249275,
          1218933.1736281132
         ],
         "yaxis": "y"
        }
       ],
       "layout": {
        "annotations": [
         {
          "showarrow": false,
          "text": "$\\Large T=1\\textrm{ K}$",
          "x": 0.9,
          "xref": "paper",
          "y": 0.85,
          "yref": "paper"
         },
         {
          "showarrow": false,
          "text": "$\\Large \\textrm{Solid oxygen}$",
          "x": 0.9,
          "xref": "paper",
          "y": 0.7,
          "yref": "paper"
         }
        ],
        "autosize": true,
        "margin": {
         "b": 60,
         "l": 80,
         "r": 20,
         "t": 20
        },
        "template": {
         "data": {
          "bar": [
           {
            "error_x": {
             "color": "#2a3f5f"
            },
            "error_y": {
             "color": "#2a3f5f"
            },
            "marker": {
             "line": {
              "color": "#E5ECF6",
              "width": 0.5
             }
            },
            "type": "bar"
           }
          ],
          "barpolar": [
           {
            "marker": {
             "line": {
              "color": "#E5ECF6",
              "width": 0.5
             }
            },
            "type": "barpolar"
           }
          ],
          "carpet": [
           {
            "aaxis": {
             "endlinecolor": "#2a3f5f",
             "gridcolor": "white",
             "linecolor": "white",
             "minorgridcolor": "white",
             "startlinecolor": "#2a3f5f"
            },
            "baxis": {
             "endlinecolor": "#2a3f5f",
             "gridcolor": "white",
             "linecolor": "white",
             "minorgridcolor": "white",
             "startlinecolor": "#2a3f5f"
            },
            "type": "carpet"
           }
          ],
          "choropleth": [
           {
            "colorbar": {
             "outlinewidth": 0,
             "ticks": ""
            },
            "type": "choropleth"
           }
          ],
          "contour": [
           {
            "colorbar": {
             "outlinewidth": 0,
             "ticks": ""
            },
            "colorscale": [
             [
              0,
              "#0d0887"
             ],
             [
              0.1111111111111111,
              "#46039f"
             ],
             [
              0.2222222222222222,
              "#7201a8"
             ],
             [
              0.3333333333333333,
              "#9c179e"
             ],
             [
              0.4444444444444444,
              "#bd3786"
             ],
             [
              0.5555555555555556,
              "#d8576b"
             ],
             [
              0.6666666666666666,
              "#ed7953"
             ],
             [
              0.7777777777777778,
              "#fb9f3a"
             ],
             [
              0.8888888888888888,
              "#fdca26"
             ],
             [
              1,
              "#f0f921"
             ]
            ],
            "type": "contour"
           }
          ],
          "contourcarpet": [
           {
            "colorbar": {
             "outlinewidth": 0,
             "ticks": ""
            },
            "type": "contourcarpet"
           }
          ],
          "heatmap": [
           {
            "colorbar": {
             "outlinewidth": 0,
             "ticks": ""
            },
            "colorscale": [
             [
              0,
              "#0d0887"
             ],
             [
              0.1111111111111111,
              "#46039f"
             ],
             [
              0.2222222222222222,
              "#7201a8"
             ],
             [
              0.3333333333333333,
              "#9c179e"
             ],
             [
              0.4444444444444444,
              "#bd3786"
             ],
             [
              0.5555555555555556,
              "#d8576b"
             ],
             [
              0.6666666666666666,
              "#ed7953"
             ],
             [
              0.7777777777777778,
              "#fb9f3a"
             ],
             [
              0.8888888888888888,
              "#fdca26"
             ],
             [
              1,
              "#f0f921"
             ]
            ],
            "type": "heatmap"
           }
          ],
          "heatmapgl": [
           {
            "colorbar": {
             "outlinewidth": 0,
             "ticks": ""
            },
            "colorscale": [
             [
              0,
              "#0d0887"
             ],
             [
              0.1111111111111111,
              "#46039f"
             ],
             [
              0.2222222222222222,
              "#7201a8"
             ],
             [
              0.3333333333333333,
              "#9c179e"
             ],
             [
              0.4444444444444444,
              "#bd3786"
             ],
             [
              0.5555555555555556,
              "#d8576b"
             ],
             [
              0.6666666666666666,
              "#ed7953"
             ],
             [
              0.7777777777777778,
              "#fb9f3a"
             ],
             [
              0.8888888888888888,
              "#fdca26"
             ],
             [
              1,
              "#f0f921"
             ]
            ],
            "type": "heatmapgl"
           }
          ],
          "histogram": [
           {
            "marker": {
             "colorbar": {
              "outlinewidth": 0,
              "ticks": ""
             }
            },
            "type": "histogram"
           }
          ],
          "histogram2d": [
           {
            "colorbar": {
             "outlinewidth": 0,
             "ticks": ""
            },
            "colorscale": [
             [
              0,
              "#0d0887"
             ],
             [
              0.1111111111111111,
              "#46039f"
             ],
             [
              0.2222222222222222,
              "#7201a8"
             ],
             [
              0.3333333333333333,
              "#9c179e"
             ],
             [
              0.4444444444444444,
              "#bd3786"
             ],
             [
              0.5555555555555556,
              "#d8576b"
             ],
             [
              0.6666666666666666,
              "#ed7953"
             ],
             [
              0.7777777777777778,
              "#fb9f3a"
             ],
             [
              0.8888888888888888,
              "#fdca26"
             ],
             [
              1,
              "#f0f921"
             ]
            ],
            "type": "histogram2d"
           }
          ],
          "histogram2dcontour": [
           {
            "colorbar": {
             "outlinewidth": 0,
             "ticks": ""
            },
            "colorscale": [
             [
              0,
              "#0d0887"
             ],
             [
              0.1111111111111111,
              "#46039f"
             ],
             [
              0.2222222222222222,
              "#7201a8"
             ],
             [
              0.3333333333333333,
              "#9c179e"
             ],
             [
              0.4444444444444444,
              "#bd3786"
             ],
             [
              0.5555555555555556,
              "#d8576b"
             ],
             [
              0.6666666666666666,
              "#ed7953"
             ],
             [
              0.7777777777777778,
              "#fb9f3a"
             ],
             [
              0.8888888888888888,
              "#fdca26"
             ],
             [
              1,
              "#f0f921"
             ]
            ],
            "type": "histogram2dcontour"
           }
          ],
          "mesh3d": [
           {
            "colorbar": {
             "outlinewidth": 0,
             "ticks": ""
            },
            "type": "mesh3d"
           }
          ],
          "parcoords": [
           {
            "line": {
             "colorbar": {
              "outlinewidth": 0,
              "ticks": ""
             }
            },
            "type": "parcoords"
           }
          ],
          "pie": [
           {
            "automargin": true,
            "type": "pie"
           }
          ],
          "scatter": [
           {
            "marker": {
             "colorbar": {
              "outlinewidth": 0,
              "ticks": ""
             }
            },
            "type": "scatter"
           }
          ],
          "scatter3d": [
           {
            "line": {
             "colorbar": {
              "outlinewidth": 0,
              "ticks": ""
             }
            },
            "marker": {
             "colorbar": {
              "outlinewidth": 0,
              "ticks": ""
             }
            },
            "type": "scatter3d"
           }
          ],
          "scattercarpet": [
           {
            "marker": {
             "colorbar": {
              "outlinewidth": 0,
              "ticks": ""
             }
            },
            "type": "scattercarpet"
           }
          ],
          "scattergeo": [
           {
            "marker": {
             "colorbar": {
              "outlinewidth": 0,
              "ticks": ""
             }
            },
            "type": "scattergeo"
           }
          ],
          "scattergl": [
           {
            "marker": {
             "colorbar": {
              "outlinewidth": 0,
              "ticks": ""
             }
            },
            "type": "scattergl"
           }
          ],
          "scattermapbox": [
           {
            "marker": {
             "colorbar": {
              "outlinewidth": 0,
              "ticks": ""
             }
            },
            "type": "scattermapbox"
           }
          ],
          "scatterpolar": [
           {
            "marker": {
             "colorbar": {
              "outlinewidth": 0,
              "ticks": ""
             }
            },
            "type": "scatterpolar"
           }
          ],
          "scatterpolargl": [
           {
            "marker": {
             "colorbar": {
              "outlinewidth": 0,
              "ticks": ""
             }
            },
            "type": "scatterpolargl"
           }
          ],
          "scatterternary": [
           {
            "marker": {
             "colorbar": {
              "outlinewidth": 0,
              "ticks": ""
             }
            },
            "type": "scatterternary"
           }
          ],
          "surface": [
           {
            "colorbar": {
             "outlinewidth": 0,
             "ticks": ""
            },
            "colorscale": [
             [
              0,
              "#0d0887"
             ],
             [
              0.1111111111111111,
              "#46039f"
             ],
             [
              0.2222222222222222,
              "#7201a8"
             ],
             [
              0.3333333333333333,
              "#9c179e"
             ],
             [
              0.4444444444444444,
              "#bd3786"
             ],
             [
              0.5555555555555556,
              "#d8576b"
             ],
             [
              0.6666666666666666,
              "#ed7953"
             ],
             [
              0.7777777777777778,
              "#fb9f3a"
             ],
             [
              0.8888888888888888,
              "#fdca26"
             ],
             [
              1,
              "#f0f921"
             ]
            ],
            "type": "surface"
           }
          ],
          "table": [
           {
            "cells": {
             "fill": {
              "color": "#EBF0F8"
             },
             "line": {
              "color": "white"
             }
            },
            "header": {
             "fill": {
              "color": "#C8D4E3"
             },
             "line": {
              "color": "white"
             }
            },
            "type": "table"
           }
          ]
         },
         "layout": {
          "annotationdefaults": {
           "arrowcolor": "#2a3f5f",
           "arrowhead": 0,
           "arrowwidth": 1
          },
          "autotypenumbers": "strict",
          "coloraxis": {
           "colorbar": {
            "outlinewidth": 0,
            "ticks": ""
           }
          },
          "colorscale": {
           "diverging": [
            [
             0,
             "#8e0152"
            ],
            [
             0.1,
             "#c51b7d"
            ],
            [
             0.2,
             "#de77ae"
            ],
            [
             0.3,
             "#f1b6da"
            ],
            [
             0.4,
             "#fde0ef"
            ],
            [
             0.5,
             "#f7f7f7"
            ],
            [
             0.6,
             "#e6f5d0"
            ],
            [
             0.7,
             "#b8e186"
            ],
            [
             0.8,
             "#7fbc41"
            ],
            [
             0.9,
             "#4d9221"
            ],
            [
             1,
             "#276419"
            ]
           ],
           "sequential": [
            [
             0,
             "#0d0887"
            ],
            [
             0.1111111111111111,
             "#46039f"
            ],
            [
             0.2222222222222222,
             "#7201a8"
            ],
            [
             0.3333333333333333,
             "#9c179e"
            ],
            [
             0.4444444444444444,
             "#bd3786"
            ],
            [
             0.5555555555555556,
             "#d8576b"
            ],
            [
             0.6666666666666666,
             "#ed7953"
            ],
            [
             0.7777777777777778,
             "#fb9f3a"
            ],
            [
             0.8888888888888888,
             "#fdca26"
            ],
            [
             1,
             "#f0f921"
            ]
           ],
           "sequentialminus": [
            [
             0,
             "#0d0887"
            ],
            [
             0.1111111111111111,
             "#46039f"
            ],
            [
             0.2222222222222222,
             "#7201a8"
            ],
            [
             0.3333333333333333,
             "#9c179e"
            ],
            [
             0.4444444444444444,
             "#bd3786"
            ],
            [
             0.5555555555555556,
             "#d8576b"
            ],
            [
             0.6666666666666666,
             "#ed7953"
            ],
            [
             0.7777777777777778,
             "#fb9f3a"
            ],
            [
             0.8888888888888888,
             "#fdca26"
            ],
            [
             1,
             "#f0f921"
            ]
           ]
          },
          "colorway": [
           "#636efa",
           "#EF553B",
           "#00cc96",
           "#ab63fa",
           "#FFA15A",
           "#19d3f3",
           "#FF6692",
           "#B6E880",
           "#FF97FF",
           "#FECB52"
          ],
          "font": {
           "color": "#2a3f5f"
          },
          "geo": {
           "bgcolor": "white",
           "lakecolor": "white",
           "landcolor": "#E5ECF6",
           "showlakes": true,
           "showland": true,
           "subunitcolor": "white"
          },
          "hoverlabel": {
           "align": "left"
          },
          "hovermode": "closest",
          "mapbox": {
           "style": "light"
          },
          "paper_bgcolor": "white",
          "plot_bgcolor": "#E5ECF6",
          "polar": {
           "angularaxis": {
            "gridcolor": "white",
            "linecolor": "white",
            "ticks": ""
           },
           "bgcolor": "#E5ECF6",
           "radialaxis": {
            "gridcolor": "white",
            "linecolor": "white",
            "ticks": ""
           }
          },
          "scene": {
           "xaxis": {
            "backgroundcolor": "#E5ECF6",
            "gridcolor": "white",
            "gridwidth": 2,
            "linecolor": "white",
            "showbackground": true,
            "ticks": "",
            "zerolinecolor": "white"
           },
           "yaxis": {
            "backgroundcolor": "#E5ECF6",
            "gridcolor": "white",
            "gridwidth": 2,
            "linecolor": "white",
            "showbackground": true,
            "ticks": "",
            "zerolinecolor": "white"
           },
           "zaxis": {
            "backgroundcolor": "#E5ECF6",
            "gridcolor": "white",
            "gridwidth": 2,
            "linecolor": "white",
            "showbackground": true,
            "ticks": "",
            "zerolinecolor": "white"
           }
          },
          "shapedefaults": {
           "line": {
            "color": "#2a3f5f"
           }
          },
          "ternary": {
           "aaxis": {
            "gridcolor": "white",
            "linecolor": "white",
            "ticks": ""
           },
           "baxis": {
            "gridcolor": "white",
            "linecolor": "white",
            "ticks": ""
           },
           "bgcolor": "#E5ECF6",
           "caxis": {
            "gridcolor": "white",
            "linecolor": "white",
            "ticks": ""
           }
          },
          "title": {
           "x": 0.05
          },
          "xaxis": {
           "automargin": true,
           "gridcolor": "white",
           "linecolor": "white",
           "ticks": "",
           "title": {
            "standoff": 15
           },
           "zerolinecolor": "white",
           "zerolinewidth": 2
          },
          "yaxis": {
           "automargin": true,
           "gridcolor": "white",
           "linecolor": "white",
           "ticks": "",
           "title": {
            "standoff": 15
           },
           "zerolinecolor": "white",
           "zerolinewidth": 2
          }
         }
        },
        "xaxis": {
         "anchor": "y",
         "autorange": true,
         "domain": [
          0,
          1
         ],
         "exponentformat": "power",
         "range": [
          -7.277766211898337,
          0
         ],
         "title": {
          "text": "Neutron energy (eV)"
         },
         "type": "log"
        },
        "yaxis": {
         "anchor": "x",
         "autorange": true,
         "domain": [
          0,
          1
         ],
         "exponentformat": "power",
         "range": [
          0,
          155338893.8702349
         ],
         "title": {
          "text": "Probability density function (1/eV)"
         },
         "type": "linear"
        }
       }
      },
      "image/png": "[encoded data removed]",
      "text/html": [
       "<div>                            <div id=\"8680bccb-6dcb-4f5b-9dac-07a38461b279\" class=\"plotly-graph-div\" style=\"height:525px; width:100%;\"></div>            <script type=\"text/javascript\">                require([\"plotly\"], function(Plotly) {                    window.PLOTLYENV=window.PLOTLYENV || {};                                    if (document.getElementById(\"8680bccb-6dcb-4f5b-9dac-07a38461b279\")) {                    Plotly.newPlot(                        \"8680bccb-6dcb-4f5b-9dac-07a38461b279\",                        [{\"fill\": \"tozeroy\", \"line\": {\"shape\": \"hvh\"}, \"name\": \"Without magnetic effects\", \"type\": \"scatter\", \"x\": [1.3716014169155309e-05, 1.4509884841957244e-05, 1.5349704041595254e-05, 1.6238131227841174e-05, 1.7177979787627714e-05, 1.8172225944215192e-05, 1.9224018182013042e-05, 2.0336687216901566e-05, 2.1513756543627e-05, 2.2758953593670487e-05, 2.4076221538924285e-05, 2.5469731778554734e-05, 2.6943897148593228e-05, 2.850338589608678e-05, 3.0153136462059925e-05, 3.1898373120101315e-05, 3.374462252009749e-05, 3.569773118950381e-05, 3.776388404757272e-05, 3.9949623991169404e-05, 4.226187261419683e-05, 4.470795212624282e-05, 4.729560853985842e-05, 5.003303619989609e-05, 5.2928903732583335e-05, 5.5992381496505944e-05, 5.923317062242964e-05, 6.266153373392078e-05, 6.628832744604861e-05, 7.012503674508476e-05, 7.418381135806762e-05, 7.847750422740561e-05, 8.30197122123558e-05, 8.782481914626815e-05, 9.290804138594378e-05, 9.828547599735111e-05, 0.00010397415173028679, 0.00010999208294340513, 0.00011635832665038042, 0.00012309304286784942, 0.00013021755845624042, 0.00013775443465565071, 0.0001457275385306423, 0.0001541621185501973, 0.00016308488454217472, 0.0001725240922754586, 0.00018250963293764785, 0.00019307312779163192, 0.00020424802831080775, 0.0002160697221100316, 0.0002285756450077608, 0.00024180539957425277, 0.0002558008805412266, 0.00027060640747012573, 0.0002862688650991013, 0.0003028378518131523, 0.00032036583670758654, 0.0003389083257421742, 0.00035852403751215493, 0.0003792750891927153, 0.00040122719324576746, 0.0004244498655119383, 0.0004490166453467396, 0.00047500532849802297, 0.0005024982134621728, 0.0005315823620991783, 0.0005623498753318731, 0.0005948981848024001, 0.0006293303614094921, 0.0006657554417036177, 0.0007042887731735836, 0.0007450523795180203, 0.0007881753470584569, 0.0008337942335176365, 0.0008820535004575587, 0.00093310597074665, 0.0009871133125047243, 0.0010442465510582487, 0.0011046866105271262, 0.0011686248867580312, 0.0012362638534186218, 0.0013078177031719436, 0.001383513025961431, 0.0014635895265544528, 0.0015483007836166204, 0.001637915052720659, 0.0017327161158327037, 0.0018330041799661033, 0.0019390968278485213, 0.0020513300236127854, 0.002170059176696227, 0.0022956602673175805, 0.0024285310370954706, 0.002569092248578828, 0.002717789017677829, 0.002875092223214727, 0.0030414999980582294, 0.0032175393065634254, 0.003403767613312505, 0.003600774648440721, 0.0038091842751378207, 0.004029656465238835, 0.004262889389160267, 0.004509621626799921, 0.004770634506401684, 0.005046754578791675, 0.005338856234820974, 0.00564786447430365, 0.0059747578352184125, 0.0063205714924498245, 0.006686400535881973, 0.007073403438225201, 0.007482805723557571, 0.0079159038481983, 0.008374069306202615, 0.008858752972479005, 0.009371489697282282, 0.009913903166631753, 0.010487711044046033, 0.011094730409876992, 0.011736883515467414, 0.012416203870354147, 0.013134842681793277, 0.013895075666999152, 0.014699310259669723, 0.015550093233619293, 0.01645011876766018, 0.017402236977272556, 0.01840946294007986, 0.019474986243710555, 0.020602181086281576, 0.021794616961488964, 0.02305606996214182, 0.024390534737934715, 0.02580223714532554, 0.027295647629576775, 0.028875495381337383, 0.030546783312595274, 0.032314803899424316, 0.03418515594169538, 0.03616376229282488, 0.03825688861570492, 0.040471163224210134, 0.04281359807311342, 0.04529161096287905, 0.04791304902964933, 0.050686213594811215, 0.053619886452833214, 0.05672335768061888, 0.060006455056441366, 0.06347957518161916, 0.06715371640348672, 0.0710405136439178, 0.0751522752436921, 0.07950202193938104, 0.08410352809618152, 0.08897136532726868, 0.09412094863779798, 0.09956858523968161, 0.10533152619171993, 0.11142802102861805, 0.11787737555188077, 0.12470001296559387, 0.13191753855068913, 0.13955280808249806, 0.14763000020825354, 0.15617469301373596, 0.165213945021529, 0.17477638087738087, 0.18489228199601893, 0.19559368245345984, 0.20691447042948297, 0.21889049552150325, 0.23155968226967594, 0.24496215025273074, 0.25914034113485057, 0.2741391530659056, 0.2900060828606556, 0.3067913764071568, 0.3245481877806748, 0.34333274756696436, 0.36320454092795856, 0.38422649597373365, 0.4064651830372789, 0.4299910254831123, 0.45487852271731116, 0.4812064861051604, 0.509058288543513, 0.5385221284781672, 0.5696913092023382, 0.6026645343206765, 0.6375462203144803, 0.674446827197898, 0.71348320831223, 0.7547789803659998, 0.7984649148926201, 0.8446793523652798, 0.893568640280431, 0.9452875965971588, 1.0], \"xaxis\": \"x\", \"y\": [67748.67067000996, 0.0, 0.0, 0.0, 0.0, 0.0, 0.0, 0.0, 0.0, 0.0, 0.0, 0.0, 0.0, 95150.95419607211, 0.0, 200500.20152276236, 0.0, 0.0, 0.0, 219196.43077692896, 112289.13393184537, 0.0, 0.0, 0.0, 0.0, 0.0, 0.0, 0.0, 136118.17432791073, 0.0, 285754.4998748979, 1174502.7457949682, 296530.72868449613, 455522.1189839763, 314137.558250934, 158551.61253975038, 977882.7217198992, 0.0, 1199171.8797556928, 523836.8060552571, 892545.1361100224, 2555880.1205686233, 2050815.9010678302, 2483135.346798288, 1946232.7166523484, 3174856.16044313, 2230360.13350193, 4553831.552371951, 7609661.632301359, 4943671.48460643, 2422156.398196747, 8082486.600959879, 10067007.384877818, 9532984.209739357, 12802446.584043961, 18409188.495271295, 9366259.593477916, 17091742.26215419, 21494428.290961016, 18210762.933676142, 30189937.640684534, 25022490.561114788, 34294955.691081785, 39007584.45477499, 31395610.596915305, 49333995.228517234, 46395155.75953771, 67153826.07673949, 66406467.48927693, 85904519.4141833, 72121859.92708784, 90768519.75949295, 100235834.28619242, 95612010.11232123, 94441951.08890918, 118058381.22649567, 123502367.97771518, 99760351.16293482, 134225353.7184187, 139565780.40835327, 124285155.26844923, 120718992.86567971, 127510504.04268683, 114621496.03888091, 123314911.18657309, 92952566.86584637, 102416858.95056829, 91474543.74230792, 79372400.67955458, 63797781.32971151, 61237156.976777986, 43254541.458200485, 43571553.97109561, 35052801.23796929, 34714962.55180708, 33409067.25201238, 25844686.119166616, 20516039.267610054, 17457654.17336259, 14165866.482409893, 15705157.34360748, 11939586.682813682, 10241502.535862125, 9731396.435130855, 8350791.666055925, 5966514.447414551, 4483057.306380667, 4560847.761221753, 3414422.9700483903, 2813299.341627031, 2583655.587853966, 2158890.2798666046, 1790006.672142795, 1623841.1987943528, 1517032.0746946558, 1356065.9161174586, 1161977.0131716705, 1057003.7660660006, 854883.1880283974, 864173.3368192599, 861355.1470505864, 762867.1102265079, 747177.3989565155, 767585.9552818895, 695397.6626085556, 634549.7960485487, 612978.4497455806, 641696.59519093, 601747.5388378169, 592067.4568306638, 564389.9357030228, 565173.7019747668, 518384.8916599268, 576189.6094541487, 558707.4810975097, 496250.0627610684, 530653.8952418237, 476017.83047273476, 508399.83894310595, 500331.25884882634, 493355.8716914072, 463522.88080085727, 468264.3192785495, 458966.7405070855, 487140.8445062638, 449944.33092841035, 452301.8572069588, 446177.39814925846, 462610.11867847684, 451021.2468956335, 434972.1186910556, 449852.2854873369, 433853.8079104521, 448863.1558158087, 435518.4298148972, 434596.3241740378, 434298.4684665759, 422066.7739895679, 418653.80239032477, 429363.2681825164, 422297.1978997921, 407333.10024435987, 409120.2138236378, 415785.0130101662, 411377.4390402472, 413230.1753054581, 415907.0779504918, 400431.2574825726, 397331.5465672224, 398804.7468314498, 410431.7065080885, 403941.53414168465, 407437.2896843459, 406367.6784236876, 396180.4865598529, 408621.1715819191, 409580.7220419311, 399409.82869895134, 403079.24296752375, 396473.9895072475, 375906.59156866267, 399617.90073687, 391863.79360494, 405134.1365084034, 397900.0340015736, 401594.2729518607, 393039.77384646394, 412687.5549080935, 402262.5111539504, 388838.58581953665, 393708.5272143123, 394388.0513525473, 412328.6774093594, 393267.8192728201, 361001.10302572325, 422788.95121571934, 419658.98883639055, 367537.5102877637, 261117.55042865366, 1100266.025319361], \"yaxis\": \"y\"}, {\"fill\": \"tozeroy\", \"line\": {\"shape\": \"hvh\"}, \"name\": \"With magnetic effects\", \"type\": \"scatter\", \"x\": [5.2751375462439144e-08, 5.738593705221689e-08, 6.242767591350933e-08, 6.79123652963264e-08, 7.38789213702513e-08, 8.036967935097117e-08, 8.74306938863738e-08, 9.511206583357399e-08, 1.0346829774548994e-07, 1.1255868058929612e-07, 1.2244771444068174e-07, 1.3320556613891695e-07, 1.449085671499825e-07, 1.5763975517030684e-07, 1.714894633140211e-07, 1.8655596106425842e-07, 2.0294615153631756e-07, 2.2077633000006487e-07, 2.4017300904360856e-07, 2.61273816233127e-07, 2.842284706381272e-07, 3.091998451509811e-07, 3.3636512213835206e-07, 3.659170506243363e-07, 3.9806531392556196e-07, 4.3303801744219035e-07, 4.71083307161319e-07, 5.124711303567518e-07, 5.574951509780249e-07, 6.064748333191958e-07, 6.59757708751882e-07, 7.177218416059803e-07, 7.807785116945183e-07, 8.493751325162769e-07, 9.239984258420639e-07, 1.0051778752096335e-06, 1.093489482831278e-06, 1.1895598565709024e-06, 1.2940706559894037e-06, 1.4077634290049127e-06, 1.531444873486022e-06, 1.6659925611112339e-06, 1.81236116410774e-06, 1.971589229050982e-06, 2.1448065457877827e-06, 2.3332421637687723e-06, 2.538233112669286e-06, 2.761233889175197e-06, 3.003826777246453e-06, 3.267733075084781e-06, 3.5548253084658365e-06, 3.867140517094215e-06, 4.206894708253828e-06, 4.576498580308219e-06, 4.9785746276156604e-06, 5.415975748225669e-06, 5.8918054863860775e-06, 6.409440053490213e-06, 6.972552283711375e-06, 7.585137694300623e-06, 8.251542835455886e-06, 8.976496130917148e-06, 9.765141428114363e-06, 1.0623074495920524e-05, 1.155638272897689e-05, 1.2571688340308706e-05, 1.3676195348702027e-05, 1.4877740694235672e-05, 1.6184849844655345e-05, 1.7606797287139938e-05, 1.915367233467461e-05, 2.0836450713954604e-05, 2.2667072442765228e-05, 2.4658526549412172e-05, 2.6824943235320066e-05, 2.918169413473319e-05, 3.174550138290202e-05, 3.4534556266640354e-05, 3.7568648299128814e-05, 4.0869305634803075e-05, 4.4459947820632204e-05, 4.836605196761775e-05, 5.2615333521573095e-05, 5.7237942915825905e-05, 6.226667950117721e-05, 6.773722427104095e-05, 7.36883930330432e-05, 8.016241182344547e-05, 8.720521651856495e-05, 9.486677876906906e-05, 0.00010320146056977639, 0.00011226839998079156, 0.00012213193073682383, 0.000132862038721995, 0.00014453485854901471, 0.00015723321376616306, 0.00017104720452507392, 0.00018607484687906746, 0.0002024227682481234, 0.00022020696398510875, 0.0002395536204114162, 0.00026060001016179284, 0.0002834954661912097, 0.00030840244135475645, 0.0003354976610787266, 0.00036497337730157414, 0.0003970387325819827, 0.00043192124405296207, 0.0004698684177512518, 0.0005111495047763687, 0.0005560574117399939, 0.0006049107790611243, 0.0006580562418533771, 0.0007158708894463811, 0.0007787649409925931, 0.0008471846561440911, 0.0009216155014518131, 0.0010025855949541832, 0.001090669453395896, 0.0011864920686649838, 0.0012907333423721702, 0.0014041329100377166, 0.00152749538911539, 0.0016616960880904811, 0.0018076872171603087, 0.0019665046445646183, 0.002139275246504811, 0.0023272249028028357, 0.0025316871950322403, 0.0027541128688382834, 0.0029960801275862375, 0.003259305830375622, 0.003545657673875004, 0.003857167444412502, 0.004196045434351247, 0.004564696125039936, 0.004965735247615626, 0.005402008342712296, 0.005876610950764096, 0.0063929105761619314, 0.006954570581108351, 0.007565576178707469, 0.008230262709722026, 0.00895334640363286, 0.009739957842263449, 0.01059567836340797, 0.01152657966276184, 0.012539266875147169, 0.013640925440712132, 0.014839372088640036, 0.016143110300118533, 0.017561390644102108, 0.01910427641397535, 0.020782715030836642, 0.022608615720038427, 0.024594934012131937, 0.026755763667785322, 0.029106436678921915, 0.031663632055627874, 0.034445494170718266, 0.03747176150166575, 0.04076390668336976, 0.04434528886549977, 0.04824131945545059, 0.05247964242292704, 0.05709033044549339, 0.06210609828682293, 0.06756253492165569, 0.0734983560544881, 0.0799556788237204, 0.08698032064040388, 0.0946221242819715, 0.10293531154763155, 0.11197886798475502, 0.12181696141605268, 0.1325193972371673, 0.14416211371520812, 0.15682772080257984, 0.17060608628921162, 0.18559497345218773, 0.20190073472716696, 0.21963906632348146, 0.23893582913722566, 0.25992794178705725, 0.28276435210917306, 0.3076070940046271, 0.3346324371377572, 0.36403213764332304, 0.3960147987166391, 0.4308073507406624, 0.46865666145215723, 0.5098312875717386, 0.5546233803263501, 0.6033507583846424, 0.6563591629136157, 0.7140247107570855, 0.7767565631423037, 0.84499982885033, 0.9192387224493601, 1.0], \"xaxis\": \"x\", \"y\": [9300.649512280947, 0.0, 0.0, 0.0, 0.0, 0.0, 0.0, 0.0, 9100.726440755074, 3572.9423243869705, 0.0, 0.0, 0.0, 0.0, 0.0, 3816.282535476591, 0.0, 0.0, 1335.6304349546326, 10380.727905427591, 6554.332564482638, 0.0, 0.0, 0.0, 0.0, 0.0, 0.0, 0.0, 0.0, 0.0, 0.0, 16537.24515730621, 0.0, 45740.07411035232, 12840.517837205525, 14905.242020918698, 708.6026338234782, 56265.41608567723, 94967.08875224453, 0.0, 0.0, 22636.881967462054, 171568.0476030085, 46991.41078452199, 7028.208116455109, 0.0, 164648.74237703264, 11230.847495929145, 56331.53038728341, 0.0, 24240.349244591584, 128995.51313844405, 298226.088838331, 119211.9818714039, 99089.06371263576, 526540.9076366392, 192713.3408152508, 669236.8254015696, 668010.3052458043, 266722.63712418673, 366485.9506769563, 936230.335338344, 178006.85644778132, 402112.89853045647, 370385.5987122918, 507429.7577136039, 1198779.9639253449, 645076.6156103946, 806428.0401115136, 1427126.6371050652, 744382.7174533887, 2600933.3543175813, 1595332.2667812146, 2192658.4165729643, 2115738.4059578767, 2826526.746634069, 3768024.843127312, 2510408.7930950588, 4190990.41100435, 7013390.977671796, 4649920.599041077, 5089679.634275493, 6805443.545937963, 7417408.1634909995, 11733355.143281126, 11257514.111965498, 13751248.847048072, 12311849.721369522, 21028794.530729532, 17970257.594374545, 24232182.216629215, 23304756.50938705, 25362404.752183378, 31337203.515219595, 45544476.900921345, 46157541.44572534, 35386287.62851104, 45938451.30175905, 55505066.66127956, 53486104.92519386, 80505097.75676244, 87436466.27987552, 122254181.89299977, 98557488.98489994, 107424659.99026893, 125802847.00311306, 147571949.17672315, 24199336.624651942, 5807688.432559407, 5760495.061699577, 5772748.10407795, 4593491.181884517, 5427262.068430569, 6276295.681880621, 5946617.0756294485, 2245488.8721940527, 375449.68352815456, 337410.4374982247, 388411.07832337066, 379234.8112296822, 276940.7937595384, 301550.26004299126, 325681.5299801649, 339877.46291107277, 392974.1233483014, 429670.94406994106, 462491.63417931774, 530830.7958100853, 569322.4286010076, 635925.7748120324, 679568.8340622025, 738795.9726835226, 822456.737504213, 928141.1724320701, 956405.9504355855, 1023486.6714036283, 1109268.0432061027, 1188239.9487624546, 1209847.5576098505, 1243401.4964241944, 1240487.7877342526, 1220093.2081647539, 1168953.4730948212, 1138473.9352482688, 1147712.344230695, 1067769.6787152723, 993675.0007686052, 1046710.6528611403, 946815.915815189, 953747.8701589784, 872873.3970482073, 910531.0881855794, 824925.6690760184, 770291.7117966077, 740020.5856704019, 774400.5484839255, 742380.5520566569, 746071.1411936987, 715131.6435613062, 710784.5091286799, 724566.4030812702, 731618.7214412099, 696667.598999492, 683200.9068626811, 680222.2009098724, 683389.9615865267, 674996.6684927183, 656922.159622846, 655602.3957924282, 618338.8844771791, 658339.7638860975, 641845.7585021363, 652924.1468348436, 633508.1592330459, 616668.6311704075, 620535.5883430254, 622880.068010415, 614030.1346960766, 600888.4001632209, 615441.5360228652, 605502.8323497055, 603376.3686374613, 603387.9422975694, 596334.0728560267, 597110.504737238, 602885.5171462841, 590079.6084014613, 589133.1492928566, 596043.8920402485, 597934.213706703, 597313.1341209909, 587831.2844526068, 596006.3945468352, 587638.8725839072, 591646.175989082, 580310.7177346532, 542295.4703021175, 664626.125103909, 469183.95668249275, 1218933.1736281132], \"yaxis\": \"y\"}],                        {\"annotations\": [{\"showarrow\": false, \"text\": \"$\\\\Large T=1\\\\textrm{ K}$\", \"x\": 0.9, \"xref\": \"paper\", \"y\": 0.85, \"yref\": \"paper\"}, {\"showarrow\": false, \"text\": \"$\\\\Large \\\\textrm{Solid oxygen}$\", \"x\": 0.9, \"xref\": \"paper\", \"y\": 0.7, \"yref\": \"paper\"}], \"margin\": {\"b\": 60, \"l\": 80, \"r\": 20, \"t\": 20}, \"template\": {\"data\": {\"bar\": [{\"error_x\": {\"color\": \"#2a3f5f\"}, \"error_y\": {\"color\": \"#2a3f5f\"}, \"marker\": {\"line\": {\"color\": \"#E5ECF6\", \"width\": 0.5}}, \"type\": \"bar\"}], \"barpolar\": [{\"marker\": {\"line\": {\"color\": \"#E5ECF6\", \"width\": 0.5}}, \"type\": \"barpolar\"}], \"carpet\": [{\"aaxis\": {\"endlinecolor\": \"#2a3f5f\", \"gridcolor\": \"white\", \"linecolor\": \"white\", \"minorgridcolor\": \"white\", \"startlinecolor\": \"#2a3f5f\"}, \"baxis\": {\"endlinecolor\": \"#2a3f5f\", \"gridcolor\": \"white\", \"linecolor\": \"white\", \"minorgridcolor\": \"white\", \"startlinecolor\": \"#2a3f5f\"}, \"type\": \"carpet\"}], \"choropleth\": [{\"colorbar\": {\"outlinewidth\": 0, \"ticks\": \"\"}, \"type\": \"choropleth\"}], \"contour\": [{\"colorbar\": {\"outlinewidth\": 0, \"ticks\": \"\"}, \"colorscale\": [[0.0, \"#0d0887\"], [0.1111111111111111, \"#46039f\"], [0.2222222222222222, \"#7201a8\"], [0.3333333333333333, \"#9c179e\"], [0.4444444444444444, \"#bd3786\"], [0.5555555555555556, \"#d8576b\"], [0.6666666666666666, \"#ed7953\"], [0.7777777777777778, \"#fb9f3a\"], [0.8888888888888888, \"#fdca26\"], [1.0, \"#f0f921\"]], \"type\": \"contour\"}], \"contourcarpet\": [{\"colorbar\": {\"outlinewidth\": 0, \"ticks\": \"\"}, \"type\": \"contourcarpet\"}], \"heatmap\": [{\"colorbar\": {\"outlinewidth\": 0, \"ticks\": \"\"}, \"colorscale\": [[0.0, \"#0d0887\"], [0.1111111111111111, \"#46039f\"], [0.2222222222222222, \"#7201a8\"], [0.3333333333333333, \"#9c179e\"], [0.4444444444444444, \"#bd3786\"], [0.5555555555555556, \"#d8576b\"], [0.6666666666666666, \"#ed7953\"], [0.7777777777777778, \"#fb9f3a\"], [0.8888888888888888, \"#fdca26\"], [1.0, \"#f0f921\"]], \"type\": \"heatmap\"}], \"heatmapgl\": [{\"colorbar\": {\"outlinewidth\": 0, \"ticks\": \"\"}, \"colorscale\": [[0.0, \"#0d0887\"], [0.1111111111111111, \"#46039f\"], [0.2222222222222222, \"#7201a8\"], [0.3333333333333333, \"#9c179e\"], [0.4444444444444444, \"#bd3786\"], [0.5555555555555556, \"#d8576b\"], [0.6666666666666666, \"#ed7953\"], [0.7777777777777778, \"#fb9f3a\"], [0.8888888888888888, \"#fdca26\"], [1.0, \"#f0f921\"]], \"type\": \"heatmapgl\"}], \"histogram\": [{\"marker\": {\"colorbar\": {\"outlinewidth\": 0, \"ticks\": \"\"}}, \"type\": \"histogram\"}], \"histogram2d\": [{\"colorbar\": {\"outlinewidth\": 0, \"ticks\": \"\"}, \"colorscale\": [[0.0, \"#0d0887\"], [0.1111111111111111, \"#46039f\"], [0.2222222222222222, \"#7201a8\"], [0.3333333333333333, \"#9c179e\"], [0.4444444444444444, \"#bd3786\"], [0.5555555555555556, \"#d8576b\"], [0.6666666666666666, \"#ed7953\"], [0.7777777777777778, \"#fb9f3a\"], [0.8888888888888888, \"#fdca26\"], [1.0, \"#f0f921\"]], \"type\": \"histogram2d\"}], \"histogram2dcontour\": [{\"colorbar\": {\"outlinewidth\": 0, \"ticks\": \"\"}, \"colorscale\": [[0.0, \"#0d0887\"], [0.1111111111111111, \"#46039f\"], [0.2222222222222222, \"#7201a8\"], [0.3333333333333333, \"#9c179e\"], [0.4444444444444444, \"#bd3786\"], [0.5555555555555556, \"#d8576b\"], [0.6666666666666666, \"#ed7953\"], [0.7777777777777778, \"#fb9f3a\"], [0.8888888888888888, \"#fdca26\"], [1.0, \"#f0f921\"]], \"type\": \"histogram2dcontour\"}], \"mesh3d\": [{\"colorbar\": {\"outlinewidth\": 0, \"ticks\": \"\"}, \"type\": \"mesh3d\"}], \"parcoords\": [{\"line\": {\"colorbar\": {\"outlinewidth\": 0, \"ticks\": \"\"}}, \"type\": \"parcoords\"}], \"pie\": [{\"automargin\": true, \"type\": \"pie\"}], \"scatter\": [{\"marker\": {\"colorbar\": {\"outlinewidth\": 0, \"ticks\": \"\"}}, \"type\": \"scatter\"}], \"scatter3d\": [{\"line\": {\"colorbar\": {\"outlinewidth\": 0, \"ticks\": \"\"}}, \"marker\": {\"colorbar\": {\"outlinewidth\": 0, \"ticks\": \"\"}}, \"type\": \"scatter3d\"}], \"scattercarpet\": [{\"marker\": {\"colorbar\": {\"outlinewidth\": 0, \"ticks\": \"\"}}, \"type\": \"scattercarpet\"}], \"scattergeo\": [{\"marker\": {\"colorbar\": {\"outlinewidth\": 0, \"ticks\": \"\"}}, \"type\": \"scattergeo\"}], \"scattergl\": [{\"marker\": {\"colorbar\": {\"outlinewidth\": 0, \"ticks\": \"\"}}, \"type\": \"scattergl\"}], \"scattermapbox\": [{\"marker\": {\"colorbar\": {\"outlinewidth\": 0, \"ticks\": \"\"}}, \"type\": \"scattermapbox\"}], \"scatterpolar\": [{\"marker\": {\"colorbar\": {\"outlinewidth\": 0, \"ticks\": \"\"}}, \"type\": \"scatterpolar\"}], \"scatterpolargl\": [{\"marker\": {\"colorbar\": {\"outlinewidth\": 0, \"ticks\": \"\"}}, \"type\": \"scatterpolargl\"}], \"scatterternary\": [{\"marker\": {\"colorbar\": {\"outlinewidth\": 0, \"ticks\": \"\"}}, \"type\": \"scatterternary\"}], \"surface\": [{\"colorbar\": {\"outlinewidth\": 0, \"ticks\": \"\"}, \"colorscale\": [[0.0, \"#0d0887\"], [0.1111111111111111, \"#46039f\"], [0.2222222222222222, \"#7201a8\"], [0.3333333333333333, \"#9c179e\"], [0.4444444444444444, \"#bd3786\"], [0.5555555555555556, \"#d8576b\"], [0.6666666666666666, \"#ed7953\"], [0.7777777777777778, \"#fb9f3a\"], [0.8888888888888888, \"#fdca26\"], [1.0, \"#f0f921\"]], \"type\": \"surface\"}], \"table\": [{\"cells\": {\"fill\": {\"color\": \"#EBF0F8\"}, \"line\": {\"color\": \"white\"}}, \"header\": {\"fill\": {\"color\": \"#C8D4E3\"}, \"line\": {\"color\": \"white\"}}, \"type\": \"table\"}]}, \"layout\": {\"annotationdefaults\": {\"arrowcolor\": \"#2a3f5f\", \"arrowhead\": 0, \"arrowwidth\": 1}, \"autotypenumbers\": \"strict\", \"coloraxis\": {\"colorbar\": {\"outlinewidth\": 0, \"ticks\": \"\"}}, \"colorscale\": {\"diverging\": [[0, \"#8e0152\"], [0.1, \"#c51b7d\"], [0.2, \"#de77ae\"], [0.3, \"#f1b6da\"], [0.4, \"#fde0ef\"], [0.5, \"#f7f7f7\"], [0.6, \"#e6f5d0\"], [0.7, \"#b8e186\"], [0.8, \"#7fbc41\"], [0.9, \"#4d9221\"], [1, \"#276419\"]], \"sequential\": [[0.0, \"#0d0887\"], [0.1111111111111111, \"#46039f\"], [0.2222222222222222, \"#7201a8\"], [0.3333333333333333, \"#9c179e\"], [0.4444444444444444, \"#bd3786\"], [0.5555555555555556, \"#d8576b\"], [0.6666666666666666, \"#ed7953\"], [0.7777777777777778, \"#fb9f3a\"], [0.8888888888888888, \"#fdca26\"], [1.0, \"#f0f921\"]], \"sequentialminus\": [[0.0, \"#0d0887\"], [0.1111111111111111, \"#46039f\"], [0.2222222222222222, \"#7201a8\"], [0.3333333333333333, \"#9c179e\"], [0.4444444444444444, \"#bd3786\"], [0.5555555555555556, \"#d8576b\"], [0.6666666666666666, \"#ed7953\"], [0.7777777777777778, \"#fb9f3a\"], [0.8888888888888888, \"#fdca26\"], [1.0, \"#f0f921\"]]}, \"colorway\": [\"#636efa\", \"#EF553B\", \"#00cc96\", \"#ab63fa\", \"#FFA15A\", \"#19d3f3\", \"#FF6692\", \"#B6E880\", \"#FF97FF\", \"#FECB52\"], \"font\": {\"color\": \"#2a3f5f\"}, \"geo\": {\"bgcolor\": \"white\", \"lakecolor\": \"white\", \"landcolor\": \"#E5ECF6\", \"showlakes\": true, \"showland\": true, \"subunitcolor\": \"white\"}, \"hoverlabel\": {\"align\": \"left\"}, \"hovermode\": \"closest\", \"mapbox\": {\"style\": \"light\"}, \"paper_bgcolor\": \"white\", \"plot_bgcolor\": \"#E5ECF6\", \"polar\": {\"angularaxis\": {\"gridcolor\": \"white\", \"linecolor\": \"white\", \"ticks\": \"\"}, \"bgcolor\": \"#E5ECF6\", \"radialaxis\": {\"gridcolor\": \"white\", \"linecolor\": \"white\", \"ticks\": \"\"}}, \"scene\": {\"xaxis\": {\"backgroundcolor\": \"#E5ECF6\", \"gridcolor\": \"white\", \"gridwidth\": 2, \"linecolor\": \"white\", \"showbackground\": true, \"ticks\": \"\", \"zerolinecolor\": \"white\"}, \"yaxis\": {\"backgroundcolor\": \"#E5ECF6\", \"gridcolor\": \"white\", \"gridwidth\": 2, \"linecolor\": \"white\", \"showbackground\": true, \"ticks\": \"\", \"zerolinecolor\": \"white\"}, \"zaxis\": {\"backgroundcolor\": \"#E5ECF6\", \"gridcolor\": \"white\", \"gridwidth\": 2, \"linecolor\": \"white\", \"showbackground\": true, \"ticks\": \"\", \"zerolinecolor\": \"white\"}}, \"shapedefaults\": {\"line\": {\"color\": \"#2a3f5f\"}}, \"ternary\": {\"aaxis\": {\"gridcolor\": \"white\", \"linecolor\": \"white\", \"ticks\": \"\"}, \"baxis\": {\"gridcolor\": \"white\", \"linecolor\": \"white\", \"ticks\": \"\"}, \"bgcolor\": \"#E5ECF6\", \"caxis\": {\"gridcolor\": \"white\", \"linecolor\": \"white\", \"ticks\": \"\"}}, \"title\": {\"x\": 0.05}, \"xaxis\": {\"automargin\": true, \"gridcolor\": \"white\", \"linecolor\": \"white\", \"ticks\": \"\", \"title\": {\"standoff\": 15}, \"zerolinecolor\": \"white\", \"zerolinewidth\": 2}, \"yaxis\": {\"automargin\": true, \"gridcolor\": \"white\", \"linecolor\": \"white\", \"ticks\": \"\", \"title\": {\"standoff\": 15}, \"zerolinecolor\": \"white\", \"zerolinewidth\": 2}}}, \"xaxis\": {\"anchor\": \"y\", \"domain\": [0.0, 1.0], \"exponentformat\": \"power\", \"title\": {\"text\": \"Neutron energy (eV)\"}, \"type\": \"log\"}, \"yaxis\": {\"anchor\": \"x\", \"domain\": [0.0, 1.0], \"exponentformat\": \"power\", \"title\": {\"text\": \"Probability density function (1/eV)\"}}},                        {\"responsive\": true}                    ).then(function(){\n",
       "                            \n",
       "var gd = document.getElementById('8680bccb-6dcb-4f5b-9dac-07a38461b279');\n",
       "var x = new MutationObserver(function (mutations, observer) {{\n",
       "        var display = window.getComputedStyle(gd).display;\n",
       "        if (!display || display === 'none') {{\n",
       "            console.log([gd, 'removed!']);\n",
       "            Plotly.purge(gd);\n",
       "            observer.disconnect();\n",
       "        }}\n",
       "}});\n",
       "\n",
       "// Listen for the removal of the full notebook cells\n",
       "var notebookContainer = gd.closest('#notebook-container');\n",
       "if (notebookContainer) {{\n",
       "    x.observe(notebookContainer, {childList: true});\n",
       "}}\n",
       "\n",
       "// Listen for the clearing of the current output cell\n",
       "var outputEl = gd.closest('.output');\n",
       "if (outputEl) {{\n",
       "    x.observe(outputEl, {childList: true});\n",
       "}}\n",
       "\n",
       "                        })                };                });            </script>        </div>"
      ]
     },
     "metadata": {},
     "output_type": "display_data"
    }
   ],
   "source": [
    "#\n",
    "# Compute spectrum using collision estimator\n",
    "#\n",
    "vals, bins = np.histogram(np.log10(energies), weights=weights, bins=200)\n",
    "vals_mag, bins_mag = np.histogram(np.log10(energies_mag), weights=weights_mag, bins=200)\n",
    "\n",
    "fig = make_subplots(rows = 1, cols = 1)\n",
    "fig.add_trace(\n",
    "    go.Scatter(\n",
    "        x = 10**bins[1:],\n",
    "        y = vals,\n",
    "        #mode = 'lines',\n",
    "        line_shape='hvh',\n",
    "        fill='tozeroy',\n",
    "        name = 'Without magnetic effects',\n",
    "    ),\n",
    "    row = 1, col = 1\n",
    ")\n",
    "fig.add_trace(\n",
    "    go.Scatter(\n",
    "        x = 10**bins_mag[1:],\n",
    "        y = vals_mag,\n",
    "        #mode = 'lines',\n",
    "        line_shape='hvh',\n",
    "        fill='tozeroy',\n",
    "        name = 'With magnetic effects',\n",
    "    ),\n",
    "    row = 1, col = 1\n",
    ")\n",
    "fig.update_xaxes(type = 'log', title = 'Neutron energy (eV)', \n",
    "                 exponentformat = 'power')\n",
    "fig.update_yaxes(title = 'Probability density function (1/eV)',\n",
    "                 exponentformat = 'power')\n",
    "fig.add_annotation(xref='paper',yref='paper',x=.9, y=.85, \n",
    "                   text=r'$\\Large T=1\\textrm{ K}$', showarrow=False)\n",
    "fig.add_annotation(xref='paper',yref='paper',x=.9, y=.7, \n",
    "                   text=r'$\\Large \\textrm{Solid oxygen}$', showarrow=False)\n",
    "fig.update_layout(margin = dict(l = 80, r = 20, t = 20, b = 60))\n",
    "fig.show()"
   ]
  },
  {
   "cell_type": "code",
   "execution_count": null,
   "metadata": {},
   "outputs": [],
   "source": []
  }
 ],
 "metadata": {
  "kernelspec": {
   "display_name": "Python 3",
   "language": "python",
   "name": "python3"
  },
  "language_info": {
   "codemirror_mode": {
    "name": "ipython",
    "version": 3
   },
   "file_extension": ".py",
   "mimetype": "text/x-python",
   "name": "python",
   "nbconvert_exporter": "python",
   "pygments_lexer": "ipython3",
   "version": "3.8.11"
  }
 },
 "nbformat": 4,
 "nbformat_minor": 4
}
